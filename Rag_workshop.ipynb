{
 "cells": [
  {
   "cell_type": "code",
   "execution_count": 1,
   "id": "8ae7544c-d75b-4d63-9387-b42c4da21d96",
   "metadata": {},
   "outputs": [
    {
     "name": "stdout",
     "output_type": "stream",
     "text": [
      "content saved in ./data/sources/wikipedia/racing_club_de_strasbourg_alsace.txt\n"
     ]
    }
   ],
   "source": [
    "\"\"\"\n",
    "Extracts pages from wikipedia and saves the content as text to ./data/sources\n",
    "\n",
    "Requires wikipedia see https://github.com/goldsmith/Wikipedia\n",
    "Install with\n",
    "> pip install wikipedia\n",
    "\n",
    "\"\"\"\n",
    "\n",
    "import wikipedia\n",
    "\n",
    "wikipedia.set_lang(\"fr\")\n",
    "\n",
    "page_title = \"Racing Club de Strasbourg Alsace\"\n",
    "\n",
    "pg = wikipedia.page(page_title)\n",
    "\n",
    "# save the content\n",
    "output_file = page_title.replace(\" \", \"_\").replace(\"'\", \"\").lower() + \".txt\"\n",
    "\n",
    "with open(f\"{output_file}\", \"w\", encoding=\"utf-8\") as f:\n",
    "    f.write(pg.content)\n",
    "\n",
    "print(f\"content saved in ./data/sources/wikipedia/{output_file}\")"
   ]
  },
  {
   "cell_type": "markdown",
   "id": "d59b3fa5-2927-46de-9937-b48e1c548234",
   "metadata": {},
   "source": [
    "## Partie chunk"
   ]
  },
  {
   "cell_type": "code",
   "execution_count": 2,
   "id": "a8bfab84-3854-42f6-a6d8-b50d0a9a4b53",
   "metadata": {},
   "outputs": [],
   "source": [
    "import glob\n",
    "import typing as t\n",
    "import uuid\n",
    "import pandas as pd\n",
    "import tiktoken\n",
    "\n",
    "def chunkit(input_: t.List[str], window_size: int = 3, overlap: int = 1) -> t.List[str]:\n",
    "    assert (\n",
    "        overlap < window_size\n",
    "    ), f\"overlap {overlap} needs to be smaller than window size {window_size}\"\n",
    "    start_ = 0\n",
    "    chunks = []\n",
    "    while start_ + window_size < len(input_):\n",
    "        chunks.append(input_[start_ : start_ + window_size])\n",
    "        start_ = start_ + window_size - overlap\n",
    "    # add the remaining paragraphs\n",
    "    if start_ < len(input_):\n",
    "        chunks.append(input_[start_ - len(input_) :])\n",
    "\n",
    "    extracts = [\"\\n\".join(chk) for chk in chunks]\n",
    "\n",
    "    return extracts"
   ]
  },
  {
   "cell_type": "code",
   "execution_count": 3,
   "id": "7044789b-922e-4bd4-8d65-e2ae5beba1fc",
   "metadata": {},
   "outputs": [],
   "source": [
    "# chargez les noms des fichiers txt\n",
    "\n",
    "source_path = \"*.txt\"\n",
    "source_files = glob.glob(source_path)"
   ]
  },
  {
   "cell_type": "code",
   "execution_count": 4,
   "id": "dd128ea3-1fdf-449b-8db4-380300c81e0f",
   "metadata": {},
   "outputs": [
    {
     "name": "stdout",
     "output_type": "stream",
     "text": [
      "-- loading association_sportive_de_monaco_football_club.txt\n",
      "extracted 89 allchunks\n",
      "-- loading football_club_de_nantes.txt\n",
      "extracted 108 allchunks\n",
      "-- loading olympique_de_marseille.txt\n",
      "extracted 187 allchunks\n",
      "-- loading olympique_gymnaste_club_de_nice.txt\n",
      "extracted 83 allchunks\n",
      "-- loading olympique_lyonnais.txt\n",
      "extracted 151 allchunks\n",
      "-- loading paris_saint-germain_football_club.txt\n",
      "extracted 153 allchunks\n",
      "-- loading racing_club_de_lens.txt\n",
      "extracted 139 allchunks\n",
      "-- loading racing_club_de_strasbourg_alsace.txt\n",
      "extracted 99 allchunks\n",
      "-- loading stade_brestois_29.txt\n",
      "extracted 76 allchunks\n",
      "-- loading toulouse_football_club.txt\n",
      "extracted 69 allchunks\n",
      "-- count tokens\n",
      "max number of tokens: 1901\n",
      "distribution of number of tokens: count    1154.000000\n",
      "mean      313.941941\n",
      "std       264.289296\n",
      "min        13.000000\n",
      "25%       116.000000\n",
      "50%       247.000000\n",
      "75%       436.000000\n",
      "max      1901.000000\n",
      "Name: token_count, dtype: float64\n",
      "-- saved to eu_20240303.json\n"
     ]
    }
   ],
   "source": [
    "allchunks = []\n",
    "for filename in source_files:\n",
    "        print(f\"-- loading {filename}\")\n",
    "        with open(filename, \"r\", encoding=\"utf-8\") as f:\n",
    "            txt = f.read()\n",
    "\n",
    "        # split the text over line returns\n",
    "        lines = txt.split(\"\\n\")\n",
    "        # remove empty lines\n",
    "        lines = [par.strip() for par in lines if len(par.strip()) > 1]\n",
    "        chunked_version = chunkit(lines)\n",
    "\n",
    "        allchunks += chunked_version\n",
    "\n",
    "        print(f\"extracted {len(chunked_version)} allchunks\")\n",
    "\n",
    "    # set as dataframe, to make it easier to add other info for each chunk and save it to json later on\n",
    "data = pd.DataFrame(data=allchunks, columns=[\"text\"])\n",
    "\n",
    "    # create unique id for each chunk\n",
    "data[\"uuid\"] = [str(uuid.uuid4()) for i in range(len(data))]\n",
    "\n",
    "    # count the number of tokens\n",
    "print(\"-- count tokens\")\n",
    "encoding = tiktoken.get_encoding(\"cl100k_base\")\n",
    "\n",
    "data[\"token_count\"] = data.text.apply(lambda txt: len(encoding.encode(txt)))\n",
    "\n",
    "# check the max number of tokens in the dataset\n",
    "print(f\"max number of tokens: {max(data.token_count)}\")\n",
    "print(f\"distribution of number of tokens: {data.token_count.describe()}\")\n",
    "\n",
    "# save to json\n",
    "output_file_json = \"eu_20240303.json\"\n",
    "with open(output_file_json, \"w\", encoding=\"utf-8\") as f:\n",
    "    data.to_json(f, force_ascii=False, orient=\"records\", indent=4)\n",
    "\n",
    "print(f\"-- saved to {output_file_json}\")"
   ]
  },
  {
   "cell_type": "markdown",
   "id": "68734c2b-7d34-471a-b55b-17dd079037c0",
   "metadata": {},
   "source": [
    "## Partie Create Collection + weaviate"
   ]
  },
  {
   "cell_type": "code",
   "execution_count": 5,
   "id": "6e2e1d2e-34f1-4eb6-9f43-3263a19a210c",
   "metadata": {},
   "outputs": [],
   "source": [
    "# sauvegarde clef d'acces Weaviate\n",
    "import os\n",
    "os.environ['OPENAI_API_KEY'] = \"\"\n",
    "os.environ[\"WEAVIATE_KEY\"] = \"\"\n",
    "os.environ[\"WEAVIATE_CLUSTER_URL\"] = \"\""
   ]
  },
  {
   "cell_type": "code",
   "execution_count": 6,
   "id": "0ccd0e14-8dd0-4cc6-8020-501eb82ffe6a",
   "metadata": {},
   "outputs": [],
   "source": [
    "# verifier que la clé a bien été enregistrée\n",
    "assert os.environ.get('OPENAI_API_KEY')  is not None\n",
    "assert os.environ.get('WEAVIATE_KEY')  is not None\n",
    "assert os.environ.get('WEAVIATE_CLUSTER_URL') is not None"
   ]
  },
  {
   "cell_type": "code",
   "execution_count": 7,
   "id": "36bac1cd-1688-4f20-be9e-c1dd9d10377c",
   "metadata": {},
   "outputs": [],
   "source": [
    "\n",
    "import weaviate\n",
    "\n",
    "def connect_to_weaviate() -> weaviate.client.WeaviateClient:\n",
    "    client = weaviate.connect_to_wcs(\n",
    "        cluster_url=os.environ[\"WEAVIATE_CLUSTER_URL\"],\n",
    "        auth_credentials=weaviate.AuthApiKey(os.environ[\"WEAVIATE_KEY\"]),\n",
    "        headers={\n",
    "            \"X-OpenAI-Api-Key\": os.environ[\"OPENAI_API_KEY\"],\n",
    "        },\n",
    "    )\n",
    "    # check that the vector store is up and running\n",
    "    if client.is_live() & client.is_ready() & client.is_connected():\n",
    "        print(f\"client is live, ready and connected \")\n",
    "\n",
    "    assert (\n",
    "        client.is_live() & client.is_ready()\n",
    "    ), \"Weaviate client is not live or not ready or not connected\"\n",
    "    return client\n",
    "\n"
   ]
  },
  {
   "cell_type": "code",
   "execution_count": 8,
   "id": "ea289236-c04e-4733-8c5f-25ae04e5a324",
   "metadata": {},
   "outputs": [
    {
     "name": "stderr",
     "output_type": "stream",
     "text": [
      "C:\\Users\\yetsu\\Documents\\Lib\\site-packages\\weaviate\\__init__.py:128: DeprecationWarning: Dep010: Importing AuthApiKey from weaviate is deprecated. Please import it from its specific module: weaviate.auth\n",
      "  _Warnings.root_module_import(name, map_[name])\n"
     ]
    },
    {
     "name": "stdout",
     "output_type": "stream",
     "text": [
      "client is live, ready and connected \n"
     ]
    }
   ],
   "source": [
    "client = connect_to_weaviate()"
   ]
  },
  {
   "cell_type": "code",
   "execution_count": 9,
   "id": "3191364c-1d39-4aa4-91a0-3ab2a70a6520",
   "metadata": {},
   "outputs": [],
   "source": [
    "\"\"\"\n",
    "\"\"\"\n",
    "# import weaviate.classes as wvc\n",
    "from weaviate.classes.config import Property, DataType, Configure, Reconfigure"
   ]
  },
  {
   "cell_type": "code",
   "execution_count": 10,
   "id": "981b5b01-6b8a-4e83-bfc4-7a45ce59eb35",
   "metadata": {},
   "outputs": [],
   "source": [
    "# collection_name must start with an Uppercase\n",
    "collection_name = \"Yamine_football_fr_2024\"\n",
    "assert collection_name.capitalize() == collection_name"
   ]
  },
  {
   "cell_type": "code",
   "execution_count": 11,
   "id": "3ff2e1ec-059b-439f-9672-66ef4ee686b1",
   "metadata": {},
   "outputs": [],
   "source": [
    "# create schema\n",
    "properties = [\n",
    "    Property(\n",
    "        name=\"uuid\",\n",
    "        data_type=DataType.UUID,\n",
    "        skip_vectorization=True,\n",
    "        vectorize_property_name=False,\n",
    "    ),\n",
    "    Property(\n",
    "        name=\"text\",\n",
    "        data_type=DataType.TEXT,\n",
    "        skip_vectorization=False,\n",
    "        vectorize_property_name=False,\n",
    "    ),\n",
    "]"
   ]
  },
  {
   "cell_type": "code",
   "execution_count": 12,
   "id": "731df9b4-db74-4a88-8987-1a3e915c9382",
   "metadata": {},
   "outputs": [],
   "source": [
    "# set vectorizer\n",
    "vectorizer = Configure.Vectorizer.text2vec_openai(\n",
    "    vectorize_collection_name=False, model=\"text-embedding-3-small\"\n",
    ")"
   ]
  },
  {
   "cell_type": "code",
   "execution_count": 13,
   "id": "e5938367-53a4-400f-8b86-848601ef85a4",
   "metadata": {},
   "outputs": [],
   "source": [
    "# create collection\n",
    "# 1st check if collection does not exist\n",
    "all_existing_collections = client.collections.list_all().keys()\n",
    "collection_exists = collection_name in all_existing_collections\n",
    "# assert not collection_exists, f\"{collection_name} (exists {collection_exists})\""
   ]
  },
  {
   "cell_type": "code",
   "execution_count": 14,
   "id": "1aead6de-949f-4676-bf2c-0a1b57e8625b",
   "metadata": {},
   "outputs": [
    {
     "data": {
      "text/plain": [
       "dict_keys(['AIActKnowledgeBase', 'AIAct_240218', 'AIAct_240219', 'AIAct_240220', 'Alexis_union_mars_2024_002', 'AlignmentKnowledgeBase', 'Clement_20240311', 'Mathis_sta_full', 'Etienne_union_mars_2024_001', 'Irene_ww2', 'Etienne_afr_mars_2024_001', 'Mathis_sta_2024_002', 'New_union_mars_2024_11', 'New_union_mars_2024_12', 'Clement_20240312', 'Vincent_recettes_mars_2024_002', 'Vincent_recettes_mars_2024_003', 'Yamine_football_fr_2024', 'Mathis_sta_complet', 'Ludivine_progres_mars_2024', 'Ludivine_progres_mars_2024_4', 'Irene_ww22', 'Union_europeenne', 'Sadjia_akziz_mars_2024_001'])"
      ]
     },
     "execution_count": 14,
     "metadata": {},
     "output_type": "execute_result"
    }
   ],
   "source": [
    "all_existing_collections"
   ]
  },
  {
   "cell_type": "code",
   "execution_count": 15,
   "id": "08305ab7-1194-466f-ac2b-d0c615681bff",
   "metadata": {},
   "outputs": [
    {
     "name": "stdout",
     "output_type": "stream",
     "text": [
      "collection Yamine_football_fr_2024 has been deleted\n",
      "add French stopwords\n",
      "Yamine_football_fr_2024 has been created\n"
     ]
    },
    {
     "name": "stderr",
     "output_type": "stream",
     "text": [
      "[nltk_data] Downloading package stopwords to\n",
      "[nltk_data]     C:\\Users\\yetsu\\AppData\\Roaming\\nltk_data...\n",
      "[nltk_data]   Package stopwords is already up-to-date!\n"
     ]
    }
   ],
   "source": [
    "# alternatively you can choose to delete the collection and all its records with:\n",
    "if collection_exists:\n",
    "    client.collections.delete(collection_name)\n",
    "    print(f\"collection {collection_name} has been deleted\")\n",
    "\n",
    "# now create the collection\n",
    "collection = client.collections.create(\n",
    "        name=collection_name,\n",
    "        vectorizer_config=vectorizer,\n",
    "        properties=properties,\n",
    "    )\n",
    "# add stopwords\n",
    "print(\"add French stopwords\")\n",
    "import nltk\n",
    "\n",
    "nltk.download(\"stopwords\")\n",
    "from nltk.corpus import stopwords\n",
    "\n",
    "collection.config.update(\n",
    "    # Note, use Reconfigure here (not Configure)\n",
    "    inverted_index_config=Reconfigure.inverted_index(\n",
    "        stopwords_additions=list(stopwords.words(\"french\"))\n",
    "        )\n",
    "    )\n",
    "\n",
    "# check collection has been created\n",
    "all_existing_collections = client.collections.list_all().keys()\n",
    "\n",
    "if collection_name in all_existing_collections:\n",
    "    print(f\"{collection_name} has been created\")\n",
    "else:\n",
    "    print(f\"{collection_name} has NOT been created\")\n",
    "\n",
    "client.close()"
   ]
  },
  {
   "cell_type": "markdown",
   "id": "5f079383-e6af-498b-85be-5410342356fc",
   "metadata": {},
   "source": [
    "## Partie Embed"
   ]
  },
  {
   "cell_type": "code",
   "execution_count": 16,
   "id": "54180e98-919e-4032-930c-8368478060e2",
   "metadata": {},
   "outputs": [],
   "source": [
    "import pandas as pd"
   ]
  },
  {
   "cell_type": "code",
   "execution_count": 17,
   "id": "ce20050c-c9d7-4c4f-b3dc-9aede096b320",
   "metadata": {},
   "outputs": [
    {
     "name": "stdout",
     "output_type": "stream",
     "text": [
      "-- loaded  1154 items\n"
     ]
    }
   ],
   "source": [
    "collection_name = \"Yamine_football_fr_2024\"\n",
    "\n",
    "input_file = \"eu_20240303.json\"\n",
    "data = pd.read_json(input_file)\n",
    "data = data[[\"uuid\", \"text\"]]\n",
    "print(\"-- loaded \", data.shape[0], \"items\")"
   ]
  },
  {
   "cell_type": "code",
   "execution_count": 18,
   "id": "8330bad8-8ef1-43dd-823c-5ef67f8c7fc2",
   "metadata": {},
   "outputs": [
    {
     "name": "stderr",
     "output_type": "stream",
     "text": [
      "C:\\Users\\yetsu\\Documents\\Lib\\site-packages\\weaviate\\__init__.py:128: DeprecationWarning: Dep010: Importing AuthApiKey from weaviate is deprecated. Please import it from its specific module: weaviate.auth\n",
      "  _Warnings.root_module_import(name, map_[name])\n"
     ]
    },
    {
     "name": "stdout",
     "output_type": "stream",
     "text": [
      "client is live, ready and connected \n"
     ]
    }
   ],
   "source": [
    "client = connect_to_weaviate()"
   ]
  },
  {
   "cell_type": "code",
   "execution_count": 19,
   "id": "785212cf-d974-43eb-b00c-cd00e5f51525",
   "metadata": {},
   "outputs": [],
   "source": [
    "# load the collection\n",
    "collections = client.collections.get(collection_name)"
   ]
  },
  {
   "cell_type": "code",
   "execution_count": 20,
   "id": "c27e1d7e-2d72-4d28-949e-ff2d32af012d",
   "metadata": {},
   "outputs": [
    {
     "name": "stdout",
     "output_type": "stream",
     "text": [
      "collection Yamine_football_fr_2024 now has 1154 records\n"
     ]
    }
   ],
   "source": [
    "# insert the data\n",
    "batch_result = collections.data.insert_many(data.to_dict(orient=\"records\"))\n",
    "\n",
    "if batch_result.has_errors:\n",
    "    print(batch_result.errors)\n",
    "    raise RuntimeError(\"stopping\")\n",
    "\n",
    "# finaly verify that the data has been inserted\n",
    "# reload the collection\n",
    "collection = client.collections.get(collection_name)\n",
    "\n",
    "records_num = collection.aggregate.over_all(total_count=True).total_count\n",
    "print(f\"collection {collection_name} now has {records_num} records\")"
   ]
  },
  {
   "cell_type": "markdown",
   "id": "41d30b64-b872-47a9-a8f7-d08fe55e9c19",
   "metadata": {},
   "source": [
    "# vectorisation des questions\n",
    "## Partie Run Retriever"
   ]
  },
  {
   "cell_type": "code",
   "execution_count": 21,
   "id": "ced97ff7-ff6e-4eb9-b420-b53ca28ca2ca",
   "metadata": {},
   "outputs": [],
   "source": [
    "def search(query, search_mode = \"hybrid\"):\n",
    "    metadata = [\"distance\", \"certainty\", \"score\", \"explain_score\"]\n",
    "    if search_mode == \"hybrid\":\n",
    "        response = collection.query.hybrid(\n",
    "            query=query,\n",
    "            query_properties=[\"text\"],\n",
    "            limit=2,\n",
    "            return_metadata=metadata,\n",
    "        )\n",
    "    elif search_mode == \"near_text\":\n",
    "        response = collection.query.near_text(\n",
    "            query=query,\n",
    "            limit=2,\n",
    "            return_metadata=metadata,\n",
    "        )\n",
    "    elif search_mode == \"bm25\":\n",
    "        response = collection.query.bm25(\n",
    "            query=query,\n",
    "            limit=2,\n",
    "            return_metadata=metadata,\n",
    "        )\n",
    "    return response\n"
   ]
  },
  {
   "cell_type": "code",
   "execution_count": 22,
   "id": "c58cf30d-ff55-4733-af1d-edbd9d04ae98",
   "metadata": {},
   "outputs": [
    {
     "ename": "NameError",
     "evalue": "name 'response' is not defined",
     "output_type": "error",
     "traceback": [
      "\u001b[1;31m---------------------------------------------------------------------------\u001b[0m",
      "\u001b[1;31mNameError\u001b[0m                                 Traceback (most recent call last)",
      "Cell \u001b[1;32mIn[22], line 1\u001b[0m\n\u001b[1;32m----> 1\u001b[0m \u001b[38;5;28;01mfor\u001b[39;00m item \u001b[38;5;129;01min\u001b[39;00m \u001b[43mresponse\u001b[49m\u001b[38;5;241m.\u001b[39mobjects:\n\u001b[0;32m      2\u001b[0m     \u001b[38;5;28mprint\u001b[39m(\u001b[38;5;124m\"\u001b[39m\u001b[38;5;124m--\u001b[39m\u001b[38;5;124m\"\u001b[39m \u001b[38;5;241m*\u001b[39m \u001b[38;5;241m20\u001b[39m)\n\u001b[0;32m      3\u001b[0m     \u001b[38;5;28mprint\u001b[39m(item\u001b[38;5;241m.\u001b[39mproperties\u001b[38;5;241m.\u001b[39mget(\u001b[38;5;124m\"\u001b[39m\u001b[38;5;124muuid\u001b[39m\u001b[38;5;124m\"\u001b[39m))\n",
      "\u001b[1;31mNameError\u001b[0m: name 'response' is not defined"
     ]
    }
   ],
   "source": [
    "for item in response.objects:\n",
    "    print(\"--\" * 20)\n",
    "    print(item.properties.get(\"uuid\"))\n",
    "    print()\n",
    "    print(item.properties.get(\"text\"))\n",
    "    print()\n",
    "    print(f\"metadata: {item.metadata.__dict__}\")\n",
    "    print()\n"
   ]
  },
  {
   "cell_type": "markdown",
   "id": "4c474b4e-8c55-4f9e-a853-8daf1ed37f8c",
   "metadata": {},
   "source": [
    "## Partie Génération: Question Reponse"
   ]
  },
  {
   "cell_type": "code",
   "execution_count": null,
   "id": "cf163b30-ee15-441e-ba0b-77ff056ffc0e",
   "metadata": {},
   "outputs": [],
   "source": [
    "!pip install -r requirements.txt"
   ]
  },
  {
   "cell_type": "code",
   "execution_count": 23,
   "id": "975f39d9-a528-42e7-becd-19882669a9a1",
   "metadata": {},
   "outputs": [],
   "source": [
    "from langchain_openai import ChatOpenAI\n",
    "from langchain.chains import LLMChain\n",
    "from langchain.chains import SequentialChain\n",
    "\n",
    "# Local\n",
    "from prompts import Prompt\n"
   ]
  },
  {
   "cell_type": "code",
   "execution_count": 24,
   "id": "ad46db64-cd28-4284-8cdb-becc0ff1bb76",
   "metadata": {},
   "outputs": [],
   "source": [
    "class Generate(object):\n",
    "    def __init__(self,\n",
    "            model: str = \"gpt-3.5-turbo-0125\",\n",
    "            temperature: float = 0.9\n",
    "        ) -> None:\n",
    "\n",
    "        llm = ChatOpenAI(model=model, temperature=temperature)\n",
    "\n",
    "        context_chain = LLMChain(\n",
    "            llm=llm,\n",
    "            prompt=Prompt.prompt_generate_groundtruth,\n",
    "            output_key=\"answer\",\n",
    "            verbose=False,\n",
    "        )\n",
    "        self.overall_context_chain = SequentialChain(\n",
    "            chains=[context_chain],\n",
    "            input_variables=[\"context\"],\n",
    "            output_variables=[\"answer\"],\n",
    "            verbose=True,\n",
    "        )\n",
    "\n",
    "    def generate_question_answer(self, context):\n",
    "        response = self.overall_context_chain({\"context\": context})\n",
    "        return response[\"answer\"]"
   ]
  },
  {
   "cell_type": "code",
   "execution_count": 25,
   "id": "27dc4f6d-f474-43b6-a64b-169887fbee75",
   "metadata": {},
   "outputs": [
    {
     "data": {
      "text/plain": [
       "(1154, 3)"
      ]
     },
     "execution_count": 25,
     "metadata": {},
     "output_type": "execute_result"
    }
   ],
   "source": [
    "import pandas as pd\n",
    "data = pd.read_json('eu_20240303.json')\n",
    "data.shape"
   ]
  },
  {
   "cell_type": "code",
   "execution_count": 26,
   "id": "4078c596-b81b-499d-b32c-7bee597e1627",
   "metadata": {},
   "outputs": [
    {
     "name": "stderr",
     "output_type": "stream",
     "text": [
      "C:\\Users\\yetsu\\Documents\\Lib\\site-packages\\langchain_core\\_api\\deprecation.py:117: LangChainDeprecationWarning: The function `__call__` was deprecated in LangChain 0.1.0 and will be removed in 0.2.0. Use invoke instead.\n",
      "  warn_deprecated(\n"
     ]
    },
    {
     "name": "stdout",
     "output_type": "stream",
     "text": [
      "\n",
      "\n",
      "\u001b[1m> Entering new SequentialChain chain...\u001b[0m\n",
      "\n",
      "\u001b[1m> Finished chain.\u001b[0m\n",
      "0 {\n",
      "    \"question\": \"Quelle est l'année de fondation de l'AS Monaco FC?\",\n",
      "    \"reponse\": \"L'AS Monaco FC a été fondé en 1924.\"\n",
      "}\n",
      "\n",
      "\n",
      "\u001b[1m> Entering new SequentialChain chain...\u001b[0m\n",
      "\n",
      "\u001b[1m> Finished chain.\u001b[0m\n",
      "1 {\n",
      "    \"question\": \"Quels sont les joueurs de l'AS Monaco FC qui ont été champions du monde avec l'équipe de France ?\",\n",
      "    \"reponse\": \"Emmanuel Petit, Lilian Thuram, David Trezeguet, Thierry Henry, Kylian Mbappé, Fabien Barthez, Djibril Sidibé et Thomas Lemar.\"\n",
      "}\n",
      "\n",
      "\n",
      "\u001b[1m> Entering new SequentialChain chain...\u001b[0m\n",
      "\n",
      "\u001b[1m> Finished chain.\u001b[0m\n",
      "2 {\n",
      "    \"question\": \"Quel club a fourni des joueurs à l'équipe de France depuis les années 1950?\",\n",
      "    \"reponse\": \"L'AS Monaco FC\"\n",
      "}\n",
      "\n",
      "\n",
      "\u001b[1m> Entering new SequentialChain chain...\u001b[0m\n",
      "\n",
      "\u001b[1m> Finished chain.\u001b[0m\n",
      "3 {\n",
      "    \"question\": \"Quand l'AS Monaco a-t-elle été fondée?\",\n",
      "    \"reponse\": \"L'AS Monaco a été fondée en 1924 par fusion de quatre clubs de Monaco et de Beausoleil.\"\n",
      "}\n",
      "\n",
      "\n",
      "\u001b[1m> Entering new SequentialChain chain...\u001b[0m\n",
      "\n",
      "\u001b[1m> Finished chain.\u001b[0m\n",
      "4 {\n",
      "    \"question\": \"Quelle est la date de fondation de l'AS Monaco FC ?\",\n",
      "    \"reponse\": \"La date de fondation de l'AS Monaco FC est officiellement le 23 août 1924, lorsque l'association omnisports AS Monaco a été officialisée à Monaco par arrêté du gouvernement Princier.\"\n",
      "}\n",
      "\n",
      "\n",
      "\u001b[1m> Entering new SequentialChain chain...\u001b[0m\n",
      "\n",
      "\u001b[1m> Finished chain.\u001b[0m\n",
      "5 {\n",
      "    \"question\": \"Quelle est la date de fondation officielle de l'AS Monaco?\",\n",
      "    \"reponse\": \"La fusion des quatre sections football des clubs omnisports ayant formé l'AS Monaco a été enregistrée le 23 juin 1924 par le Bureau Fédéral, ce qui signifie que le club existait déjà officiellement à cette date.\"\n",
      "}\n",
      "\n",
      "\n",
      "\u001b[1m> Entering new SequentialChain chain...\u001b[0m\n",
      "\n",
      "\u001b[1m> Finished chain.\u001b[0m\n",
      "6 {\n",
      "    \"question\": \"Qui a été élu premier président de l'AS Monaco en 1925?\",\n",
      "    \"reponse\": \"Martin Robin\"\n",
      "}\n",
      "\n",
      "\n",
      "\u001b[1m> Entering new SequentialChain chain...\u001b[0m\n",
      "\n",
      "\u001b[1m> Finished chain.\u001b[0m\n",
      "7 {\n",
      "    \"question\": \"Qui était le capitaine de l'AS Monaco lors de sa victoire en Coupe de France en 1960?\",\n",
      "    \"reponse\": \"Michel Hidalgo\"\n",
      "}\n",
      "\n",
      "\n",
      "\u001b[1m> Entering new SequentialChain chain...\u001b[0m\n",
      "\n",
      "\u001b[1m> Finished chain.\u001b[0m\n",
      "8 {\n",
      "    \"question\": \"En quelle année l'AS Monaco a remporté son premier titre, la Coupe de France ?\",\n",
      "    \"reponse\": \"En 1960\"\n",
      "}\n",
      "\n",
      "\n",
      "\u001b[1m> Entering new SequentialChain chain...\u001b[0m\n",
      "\n",
      "\u001b[1m> Finished chain.\u001b[0m\n",
      "9 {\n",
      "    \"question\": \"Qui a été le président de l'AS Monaco en 1975?\",\n",
      "    \"reponse\": \"Jean-Louis Campora\"\n",
      "}\n",
      "\n",
      "\n",
      "\u001b[1m> Entering new SequentialChain chain...\u001b[0m\n",
      "\n",
      "\u001b[1m> Finished chain.\u001b[0m\n",
      "10 {\n",
      "    \"question\": \"L'AS Monaco a-t-il remporté des titres européens entre 1980 et 1987?\",\n",
      "    \"reponse\": \"Non, l'AS Monaco n'a pas remporté de titres européens entre 1980 et 1987 malgré ses succès nationaux.\"\n",
      "}\n",
      "\n",
      "\n",
      "\u001b[1m> Entering new SequentialChain chain...\u001b[0m\n",
      "\n",
      "\u001b[1m> Finished chain.\u001b[0m\n",
      "11 {\n",
      "    \"question\": \"Quel club français a remporté la Coupe de France en 1984 ?\",\n",
      "    \"reponse\": \"AS Monaco FC\"\n",
      "}\n",
      "\n",
      "\n",
      "\u001b[1m> Entering new SequentialChain chain...\u001b[0m\n",
      "\n",
      "\u001b[1m> Finished chain.\u001b[0m\n",
      "12 {\n",
      "    \"question\": \"Quelle place Monaco a-t-il terminé en championnat lors de la saison 1984-1985?\",\n",
      "    \"reponse\": \"Monaco a terminé à la 3e place en championnat lors de la saison 1984-1985.\"\n",
      "}\n",
      "\n",
      "\n",
      "\u001b[1m> Entering new SequentialChain chain...\u001b[0m\n",
      "\n",
      "\u001b[1m> Finished chain.\u001b[0m\n",
      "13 {\n",
      "    \"question\": \"Quand Arsène Wenger arrive-t-il à la tête de l'AS Monaco?\",\n",
      "    \"reponse\": \"En 1987\"\n",
      "}\n",
      "\n",
      "\n",
      "\u001b[1m> Entering new SequentialChain chain...\u001b[0m\n",
      "\n",
      "\u001b[1m> Finished chain.\u001b[0m\n",
      "14 {\n",
      "    \"question\": \"En quelle année Arsène Wenger arrive à la tête de l'équipe de Monaco ?\",\n",
      "    \"reponse\": \"Arsène Wenger arrive à la tête de l'équipe de Monaco en 1987.\"\n",
      "}\n",
      "\n",
      "\n",
      "\u001b[1m> Entering new SequentialChain chain...\u001b[0m\n",
      "\n",
      "\u001b[1m> Finished chain.\u001b[0m\n",
      "15 {\n",
      "    \"question\": \"Quelle équipe s'est qualifiée pour la Ligue des champions de l'UEFA en 1992-1993 ?\",\n",
      "    \"reponse\": \"L'AS Monaco FC s'est qualifiée pour la Ligue des champions de l'UEFA en 1992-1993.\"\n",
      "}\n",
      "\n",
      "\n",
      "\u001b[1m> Entering new SequentialChain chain...\u001b[0m\n",
      "\n",
      "\u001b[1m> Finished chain.\u001b[0m\n",
      "16 {\n",
      "    \"question\": \"Qui a remplacé Arsène Wenger à la tête de l'AS Monaco en 1994?\",\n",
      "    \"reponse\": \"Le duo Jean-Luc Ettori - Jean Petit\"\n",
      "}\n",
      "\n",
      "\n",
      "\u001b[1m> Entering new SequentialChain chain...\u001b[0m\n",
      "\n",
      "\u001b[1m> Finished chain.\u001b[0m\n",
      "17 {\n",
      "    \"question\": \"Quel entraîneur a remplacé Arsène Wenger à l'AS Monaco en 1994?\",\n",
      "    \"reponse\": \"Le duo Jean-Luc Ettori - Jean Petit\"\n",
      "}\n",
      "\n",
      "\n",
      "\u001b[1m> Entering new SequentialChain chain...\u001b[0m\n",
      "\n",
      "\u001b[1m> Finished chain.\u001b[0m\n",
      "18 {\n",
      "    \"question\": \"Qui était le meilleur buteur du championnat en 1995-1996?\",\n",
      "    \"reponse\": \"Sonny Anderson\"\n",
      "}\n",
      "\n",
      "\n",
      "\u001b[1m> Entering new SequentialChain chain...\u001b[0m\n",
      "\n",
      "\u001b[1m> Finished chain.\u001b[0m\n",
      "19 {\n",
      "    \"question\": \"Qui a terminé meilleur buteur du championnat en 1995-1996?\",\n",
      "    \"reponse\": \"Sonny Anderson\"\n",
      "}\n",
      "\n",
      "\n",
      "\u001b[1m> Entering new SequentialChain chain...\u001b[0m\n",
      "\n",
      "\u001b[1m> Finished chain.\u001b[0m\n",
      "20 {\n",
      "    \"question\": \"Qui a remplacé Jean Tigana en tant qu'entraîneur de l'ASM en 1999 ?\",\n",
      "    \"reponse\": \"Claude Puel\"\n",
      "}\n",
      "\n",
      "\n",
      "\u001b[1m> Entering new SequentialChain chain...\u001b[0m\n",
      "\n",
      "\u001b[1m> Finished chain.\u001b[0m\n",
      "21 {\n",
      "    \"question\": \"Qui a remporté le championnat de France en 2000?\",\n",
      "    \"reponse\": \"L'AS Monaco a remporté le championnat de France en 2000.\"\n",
      "}\n",
      "\n",
      "\n",
      "\u001b[1m> Entering new SequentialChain chain...\u001b[0m\n",
      "\n",
      "\u001b[1m> Finished chain.\u001b[0m\n",
      "22 {\n",
      "    \"question\": \"Quel joueur a marqué le plus de buts pour l'AS Monaco lors du Périple Rouge et Blanc en Ligue des champions 2003-2004 ?\",\n",
      "    \"reponse\": \"Fernando Morientes, l'attaquant espagnol prêté par le Real Madrid, a marqué le plus de buts pour l'AS Monaco lors du Périple Rouge et Blanc en Ligue des champions 2003-2004.\"\n",
      "}\n",
      "\n",
      "\n",
      "\u001b[1m> Entering new SequentialChain chain...\u001b[0m\n",
      "\n",
      "\u001b[1m> Finished chain.\u001b[0m\n",
      "23 {\n",
      "    \"question\": \"Qui était le meilleur buteur de la Ligue des champions lors de la saison 2003-2004 avec l'AS Monaco FC ?\",\n",
      "    \"reponse\": \"Fernando Morientes\"\n",
      "}\n",
      "\n",
      "\n",
      "\u001b[1m> Entering new SequentialChain chain...\u001b[0m\n",
      "\n",
      "\u001b[1m> Finished chain.\u001b[0m\n",
      "24 {\n",
      "    \"question\": \"Quels joueurs ont quitté l'ASM cette année ?\",\n",
      "    \"reponse\": \"Giuly, Morientes et Rothen sont partis.\"\n",
      "}\n",
      "\n",
      "\n",
      "\u001b[1m> Entering new SequentialChain chain...\u001b[0m\n",
      "\n",
      "\u001b[1m> Finished chain.\u001b[0m\n",
      "25 {\n",
      "    \"question\": \"Quelle a été la performance de Monaco en Ligue des champions en 2005-2006?\",\n",
      "    \"reponse\": \"Monaco a été éliminé au tour qualificatif de la Ligue des champions face au Betis Séville.\"\n",
      "}\n",
      "\n",
      "\n",
      "\u001b[1m> Entering new SequentialChain chain...\u001b[0m\n",
      "\n",
      "\u001b[1m> Finished chain.\u001b[0m\n",
      "26 {\n",
      "    \"question\": \"Quel a été le classement final de l'AS Monaco en saison 2006-2007?\",\n",
      "    \"reponse\": \"L'AS Monaco a terminé à la 9e place du championnat à la fin de la saison 2006-2007.\"\n",
      "}\n",
      "\n",
      "\n",
      "\u001b[1m> Entering new SequentialChain chain...\u001b[0m\n",
      "\n",
      "\u001b[1m> Finished chain.\u001b[0m\n",
      "27 {\n",
      "    \"question\": \"Quel entraîneur a remplacé Laurent Banide en 2006 à Monaco ?\",\n",
      "    \"reponse\": \"Son adjoint, Laurent Banide, a remplacé l'entraîneur en 2006 à Monaco.\"\n",
      "}\n",
      "\n",
      "\n",
      "\u001b[1m> Entering new SequentialChain chain...\u001b[0m\n",
      "\n",
      "\u001b[1m> Finished chain.\u001b[0m\n",
      "28 {\n",
      "    \"question\": \"Pourquoi Monaco est-il relégué en Ligue 2 en 2011 ?\",\n",
      "    \"reponse\": \"Monaco est relégué en Ligue 2 en 2011 après une défaite 0–2 face à l'Olympique lyonnais, mettant fin à 34 années consécutives de présence en Ligue 1.\"\n",
      "}\n",
      "\n",
      "\n",
      "\u001b[1m> Entering new SequentialChain chain...\u001b[0m\n",
      "\n",
      "\u001b[1m> Finished chain.\u001b[0m\n",
      "29 {\n",
      "    \"question\": \"Quand l'AS Monaco a-t-elle été reléguée en Ligue 2?\",\n",
      "    \"reponse\": \"Le 29 mai 2011\"\n",
      "}\n",
      "\n",
      "\n",
      "\u001b[1m> Entering new SequentialChain chain...\u001b[0m\n",
      "\n",
      "\u001b[1m> Finished chain.\u001b[0m\n",
      "30 {\n",
      "    \"question\": \"Qui est devenu l'actionnaire majoritaire de l'AS Monaco en 2011?\",\n",
      "    \"reponse\": \"Dmitri Rybolovlev, un milliardaire russe\"\n",
      "}\n",
      "\n",
      "\n",
      "\u001b[1m> Entering new SequentialChain chain...\u001b[0m\n",
      "\n",
      "\u001b[1m> Finished chain.\u001b[0m\n",
      "31 {\n",
      "    \"question\": \"Qui est devenu le nouvel actionnaire majoritaire de l'AS Monaco en 2011 ?\",\n",
      "    \"reponse\": \"Dmitri Rybolovlev, un milliardaire russe, est devenu le nouvel actionnaire majoritaire de l'AS Monaco en 2011 en récupérant 66,67 % des actions du club.\" \n",
      "}\n",
      "\n",
      "\n",
      "\u001b[1m> Entering new SequentialChain chain...\u001b[0m\n",
      "\n",
      "\u001b[1m> Finished chain.\u001b[0m\n",
      "32 {\n",
      "    \"question\": \"Quel joueur a été le plus gros transfert de l'histoire du championnat de France pour l'AS Monaco en 2013 ?\",\n",
      "    \"reponse\": \"Radamel Falcao\"\n",
      "}\n",
      "\n",
      "\n",
      "\u001b[1m> Entering new SequentialChain chain...\u001b[0m\n",
      "\n",
      "\u001b[1m> Finished chain.\u001b[0m\n",
      "33 {\n",
      "    \"question\": \"Quels joueurs ont été recrutés par l'AS Monaco lors de l'été 2013?\",\n",
      "    \"reponse\": \"João Moutinho, James Rodríguez, Ricardo Carvalho, Radamel Falcao, Anthony Martial, Nicolas Isimat-Mirin, Gaetano Monacchello, Jérémy Toulalan, Éric Abidal, Geoffrey Kondogbia.\"\n",
      "}\n",
      "\n",
      "\n",
      "\u001b[1m> Entering new SequentialChain chain...\u001b[0m\n",
      "\n",
      "\u001b[1m> Finished chain.\u001b[0m\n",
      "34 {\n",
      "    \"question\": \"Quelle équipe a battu l'AS Monaco en match retour des quarts de finale de la Ligue des champions en 2015?\",\n",
      "    \"reponse\": \"La Juventus de Turin.\"\n",
      "}\n",
      "\n",
      "\n",
      "\u001b[1m> Entering new SequentialChain chain...\u001b[0m\n",
      "\n",
      "\u001b[1m> Finished chain.\u001b[0m\n",
      "35 {\n",
      "    \"question\": \"Quelle équipe a été sacrée championne de France de Ligue 1 en 2017?\",\n",
      "    \"reponse\": \"L'AS Monaco\"\n",
      "}\n",
      "\n",
      "\n",
      "\u001b[1m> Entering new SequentialChain chain...\u001b[0m\n",
      "\n",
      "\u001b[1m> Finished chain.\u001b[0m\n",
      "36 {\n",
      "    \"question\": \"Quelle est la stratégie de recrutement de Monaco ?\",\n",
      "    \"reponse\": \"Acheter des joueurs jeunes et prometteurs pour les revendre après avoir développé leur potentiel.\"\n",
      "}\n",
      "\n",
      "\n",
      "\u001b[1m> Entering new SequentialChain chain...\u001b[0m\n",
      "\n",
      "\u001b[1m> Finished chain.\u001b[0m\n",
      "37 {\n",
      "    \"question\": \"Quelle est la situation actuelle de l'AS Monaco en championnat ?\",\n",
      "    \"reponse\": \"Après neuf journées, Monaco pointe à la 18e place, avec seulement 1 point d'avance sur la lanterne rouge.\"\n",
      "}\n",
      "\n",
      "\n",
      "\u001b[1m> Entering new SequentialChain chain...\u001b[0m\n",
      "\n",
      "\u001b[1m> Finished chain.\u001b[0m\n",
      "38 {\n",
      "    \"question\": \"Quel est le bilan de l'AS Monaco en début de saison 2018-2019 ?\",\n",
      "    \"reponse\": \"Catastrophique, l'équipe est à la 18e place avec seulement 1 point d'avance sur la lanterne rouge.\"\n",
      "}\n",
      "\n",
      "\n",
      "\u001b[1m> Entering new SequentialChain chain...\u001b[0m\n",
      "\n",
      "\u001b[1m> Finished chain.\u001b[0m\n",
      "39 {\n",
      "    \"question\": \"Qui a remplacé Leonardo Jardim en tant qu'entraineur principal de l'AS Monaco en 2019?\",\n",
      "    \"reponse\": \"Robert Moreno\"\n",
      "}\n",
      "\n",
      "\n",
      "\u001b[1m> Entering new SequentialChain chain...\u001b[0m\n",
      "\n",
      "\u001b[1m> Finished chain.\u001b[0m\n",
      "40 {\n",
      "    \"question\": \"Pourquoi Niko Kovač a-t-il été limogé?\",\n",
      "    \"reponse\": \"Niko Kovač a été limogé pour des raisons extra-sportives.\"\n",
      "}\n",
      "\n",
      "\n",
      "\u001b[1m> Entering new SequentialChain chain...\u001b[0m\n"
     ]
    },
    {
     "ename": "KeyboardInterrupt",
     "evalue": "",
     "output_type": "error",
     "traceback": [
      "\u001b[1;31m---------------------------------------------------------------------------\u001b[0m",
      "\u001b[1;31mKeyboardInterrupt\u001b[0m                         Traceback (most recent call last)",
      "Cell \u001b[1;32mIn[26], line 7\u001b[0m\n\u001b[0;32m      4\u001b[0m \u001b[38;5;28;01mfor\u001b[39;00m i, chunk \u001b[38;5;129;01min\u001b[39;00m data\u001b[38;5;241m.\u001b[39miterrows():\n\u001b[0;32m      6\u001b[0m     gen \u001b[38;5;241m=\u001b[39m Generate()\n\u001b[1;32m----> 7\u001b[0m     answer \u001b[38;5;241m=\u001b[39m \u001b[43mgen\u001b[49m\u001b[38;5;241;43m.\u001b[39;49m\u001b[43mgenerate_question_answer\u001b[49m\u001b[43m(\u001b[49m\u001b[43mchunk\u001b[49m\u001b[38;5;241;43m.\u001b[39;49m\u001b[43mtext\u001b[49m\u001b[43m)\u001b[49m\n\u001b[0;32m      8\u001b[0m     \u001b[38;5;28mprint\u001b[39m(i, answer)\n\u001b[0;32m      9\u001b[0m     \u001b[38;5;28;01mtry\u001b[39;00m:\n",
      "Cell \u001b[1;32mIn[24], line 23\u001b[0m, in \u001b[0;36mGenerate.generate_question_answer\u001b[1;34m(self, context)\u001b[0m\n\u001b[0;32m     22\u001b[0m \u001b[38;5;28;01mdef\u001b[39;00m \u001b[38;5;21mgenerate_question_answer\u001b[39m(\u001b[38;5;28mself\u001b[39m, context):\n\u001b[1;32m---> 23\u001b[0m     response \u001b[38;5;241m=\u001b[39m \u001b[38;5;28;43mself\u001b[39;49m\u001b[38;5;241;43m.\u001b[39;49m\u001b[43moverall_context_chain\u001b[49m\u001b[43m(\u001b[49m\u001b[43m{\u001b[49m\u001b[38;5;124;43m\"\u001b[39;49m\u001b[38;5;124;43mcontext\u001b[39;49m\u001b[38;5;124;43m\"\u001b[39;49m\u001b[43m:\u001b[49m\u001b[43m \u001b[49m\u001b[43mcontext\u001b[49m\u001b[43m}\u001b[49m\u001b[43m)\u001b[49m\n\u001b[0;32m     24\u001b[0m     \u001b[38;5;28;01mreturn\u001b[39;00m response[\u001b[38;5;124m\"\u001b[39m\u001b[38;5;124manswer\u001b[39m\u001b[38;5;124m\"\u001b[39m]\n",
      "File \u001b[1;32m~\\Documents\\Lib\\site-packages\\langchain_core\\_api\\deprecation.py:145\u001b[0m, in \u001b[0;36mdeprecated.<locals>.deprecate.<locals>.warning_emitting_wrapper\u001b[1;34m(*args, **kwargs)\u001b[0m\n\u001b[0;32m    143\u001b[0m     warned \u001b[38;5;241m=\u001b[39m \u001b[38;5;28;01mTrue\u001b[39;00m\n\u001b[0;32m    144\u001b[0m     emit_warning()\n\u001b[1;32m--> 145\u001b[0m \u001b[38;5;28;01mreturn\u001b[39;00m \u001b[43mwrapped\u001b[49m\u001b[43m(\u001b[49m\u001b[38;5;241;43m*\u001b[39;49m\u001b[43margs\u001b[49m\u001b[43m,\u001b[49m\u001b[43m \u001b[49m\u001b[38;5;241;43m*\u001b[39;49m\u001b[38;5;241;43m*\u001b[39;49m\u001b[43mkwargs\u001b[49m\u001b[43m)\u001b[49m\n",
      "File \u001b[1;32m~\\Documents\\Lib\\site-packages\\langchain\\chains\\base.py:378\u001b[0m, in \u001b[0;36mChain.__call__\u001b[1;34m(self, inputs, return_only_outputs, callbacks, tags, metadata, run_name, include_run_info)\u001b[0m\n\u001b[0;32m    346\u001b[0m \u001b[38;5;250m\u001b[39m\u001b[38;5;124;03m\"\"\"Execute the chain.\u001b[39;00m\n\u001b[0;32m    347\u001b[0m \n\u001b[0;32m    348\u001b[0m \u001b[38;5;124;03mArgs:\u001b[39;00m\n\u001b[1;32m   (...)\u001b[0m\n\u001b[0;32m    369\u001b[0m \u001b[38;5;124;03m        `Chain.output_keys`.\u001b[39;00m\n\u001b[0;32m    370\u001b[0m \u001b[38;5;124;03m\"\"\"\u001b[39;00m\n\u001b[0;32m    371\u001b[0m config \u001b[38;5;241m=\u001b[39m {\n\u001b[0;32m    372\u001b[0m     \u001b[38;5;124m\"\u001b[39m\u001b[38;5;124mcallbacks\u001b[39m\u001b[38;5;124m\"\u001b[39m: callbacks,\n\u001b[0;32m    373\u001b[0m     \u001b[38;5;124m\"\u001b[39m\u001b[38;5;124mtags\u001b[39m\u001b[38;5;124m\"\u001b[39m: tags,\n\u001b[0;32m    374\u001b[0m     \u001b[38;5;124m\"\u001b[39m\u001b[38;5;124mmetadata\u001b[39m\u001b[38;5;124m\"\u001b[39m: metadata,\n\u001b[0;32m    375\u001b[0m     \u001b[38;5;124m\"\u001b[39m\u001b[38;5;124mrun_name\u001b[39m\u001b[38;5;124m\"\u001b[39m: run_name,\n\u001b[0;32m    376\u001b[0m }\n\u001b[1;32m--> 378\u001b[0m \u001b[38;5;28;01mreturn\u001b[39;00m \u001b[38;5;28;43mself\u001b[39;49m\u001b[38;5;241;43m.\u001b[39;49m\u001b[43minvoke\u001b[49m\u001b[43m(\u001b[49m\n\u001b[0;32m    379\u001b[0m \u001b[43m    \u001b[49m\u001b[43minputs\u001b[49m\u001b[43m,\u001b[49m\n\u001b[0;32m    380\u001b[0m \u001b[43m    \u001b[49m\u001b[43mcast\u001b[49m\u001b[43m(\u001b[49m\u001b[43mRunnableConfig\u001b[49m\u001b[43m,\u001b[49m\u001b[43m \u001b[49m\u001b[43m{\u001b[49m\u001b[43mk\u001b[49m\u001b[43m:\u001b[49m\u001b[43m \u001b[49m\u001b[43mv\u001b[49m\u001b[43m \u001b[49m\u001b[38;5;28;43;01mfor\u001b[39;49;00m\u001b[43m \u001b[49m\u001b[43mk\u001b[49m\u001b[43m,\u001b[49m\u001b[43m \u001b[49m\u001b[43mv\u001b[49m\u001b[43m \u001b[49m\u001b[38;5;129;43;01min\u001b[39;49;00m\u001b[43m \u001b[49m\u001b[43mconfig\u001b[49m\u001b[38;5;241;43m.\u001b[39;49m\u001b[43mitems\u001b[49m\u001b[43m(\u001b[49m\u001b[43m)\u001b[49m\u001b[43m \u001b[49m\u001b[38;5;28;43;01mif\u001b[39;49;00m\u001b[43m \u001b[49m\u001b[43mv\u001b[49m\u001b[43m \u001b[49m\u001b[38;5;129;43;01mis\u001b[39;49;00m\u001b[43m \u001b[49m\u001b[38;5;129;43;01mnot\u001b[39;49;00m\u001b[43m \u001b[49m\u001b[38;5;28;43;01mNone\u001b[39;49;00m\u001b[43m}\u001b[49m\u001b[43m)\u001b[49m\u001b[43m,\u001b[49m\n\u001b[0;32m    381\u001b[0m \u001b[43m    \u001b[49m\u001b[43mreturn_only_outputs\u001b[49m\u001b[38;5;241;43m=\u001b[39;49m\u001b[43mreturn_only_outputs\u001b[49m\u001b[43m,\u001b[49m\n\u001b[0;32m    382\u001b[0m \u001b[43m    \u001b[49m\u001b[43minclude_run_info\u001b[49m\u001b[38;5;241;43m=\u001b[39;49m\u001b[43minclude_run_info\u001b[49m\u001b[43m,\u001b[49m\n\u001b[0;32m    383\u001b[0m \u001b[43m\u001b[49m\u001b[43m)\u001b[49m\n",
      "File \u001b[1;32m~\\Documents\\Lib\\site-packages\\langchain\\chains\\base.py:163\u001b[0m, in \u001b[0;36mChain.invoke\u001b[1;34m(self, input, config, **kwargs)\u001b[0m\n\u001b[0;32m    161\u001b[0m \u001b[38;5;28;01mexcept\u001b[39;00m \u001b[38;5;167;01mBaseException\u001b[39;00m \u001b[38;5;28;01mas\u001b[39;00m e:\n\u001b[0;32m    162\u001b[0m     run_manager\u001b[38;5;241m.\u001b[39mon_chain_error(e)\n\u001b[1;32m--> 163\u001b[0m     \u001b[38;5;28;01mraise\u001b[39;00m e\n\u001b[0;32m    164\u001b[0m run_manager\u001b[38;5;241m.\u001b[39mon_chain_end(outputs)\n\u001b[0;32m    166\u001b[0m \u001b[38;5;28;01mif\u001b[39;00m include_run_info:\n",
      "File \u001b[1;32m~\\Documents\\Lib\\site-packages\\langchain\\chains\\base.py:153\u001b[0m, in \u001b[0;36mChain.invoke\u001b[1;34m(self, input, config, **kwargs)\u001b[0m\n\u001b[0;32m    150\u001b[0m \u001b[38;5;28;01mtry\u001b[39;00m:\n\u001b[0;32m    151\u001b[0m     \u001b[38;5;28mself\u001b[39m\u001b[38;5;241m.\u001b[39m_validate_inputs(inputs)\n\u001b[0;32m    152\u001b[0m     outputs \u001b[38;5;241m=\u001b[39m (\n\u001b[1;32m--> 153\u001b[0m         \u001b[38;5;28;43mself\u001b[39;49m\u001b[38;5;241;43m.\u001b[39;49m\u001b[43m_call\u001b[49m\u001b[43m(\u001b[49m\u001b[43minputs\u001b[49m\u001b[43m,\u001b[49m\u001b[43m \u001b[49m\u001b[43mrun_manager\u001b[49m\u001b[38;5;241;43m=\u001b[39;49m\u001b[43mrun_manager\u001b[49m\u001b[43m)\u001b[49m\n\u001b[0;32m    154\u001b[0m         \u001b[38;5;28;01mif\u001b[39;00m new_arg_supported\n\u001b[0;32m    155\u001b[0m         \u001b[38;5;28;01melse\u001b[39;00m \u001b[38;5;28mself\u001b[39m\u001b[38;5;241m.\u001b[39m_call(inputs)\n\u001b[0;32m    156\u001b[0m     )\n\u001b[0;32m    158\u001b[0m     final_outputs: Dict[\u001b[38;5;28mstr\u001b[39m, Any] \u001b[38;5;241m=\u001b[39m \u001b[38;5;28mself\u001b[39m\u001b[38;5;241m.\u001b[39mprep_outputs(\n\u001b[0;32m    159\u001b[0m         inputs, outputs, return_only_outputs\n\u001b[0;32m    160\u001b[0m     )\n\u001b[0;32m    161\u001b[0m \u001b[38;5;28;01mexcept\u001b[39;00m \u001b[38;5;167;01mBaseException\u001b[39;00m \u001b[38;5;28;01mas\u001b[39;00m e:\n",
      "File \u001b[1;32m~\\Documents\\Lib\\site-packages\\langchain\\chains\\sequential.py:105\u001b[0m, in \u001b[0;36mSequentialChain._call\u001b[1;34m(self, inputs, run_manager)\u001b[0m\n\u001b[0;32m    103\u001b[0m \u001b[38;5;28;01mfor\u001b[39;00m i, chain \u001b[38;5;129;01min\u001b[39;00m \u001b[38;5;28menumerate\u001b[39m(\u001b[38;5;28mself\u001b[39m\u001b[38;5;241m.\u001b[39mchains):\n\u001b[0;32m    104\u001b[0m     callbacks \u001b[38;5;241m=\u001b[39m _run_manager\u001b[38;5;241m.\u001b[39mget_child()\n\u001b[1;32m--> 105\u001b[0m     outputs \u001b[38;5;241m=\u001b[39m \u001b[43mchain\u001b[49m\u001b[43m(\u001b[49m\u001b[43mknown_values\u001b[49m\u001b[43m,\u001b[49m\u001b[43m \u001b[49m\u001b[43mreturn_only_outputs\u001b[49m\u001b[38;5;241;43m=\u001b[39;49m\u001b[38;5;28;43;01mTrue\u001b[39;49;00m\u001b[43m,\u001b[49m\u001b[43m \u001b[49m\u001b[43mcallbacks\u001b[49m\u001b[38;5;241;43m=\u001b[39;49m\u001b[43mcallbacks\u001b[49m\u001b[43m)\u001b[49m\n\u001b[0;32m    106\u001b[0m     known_values\u001b[38;5;241m.\u001b[39mupdate(outputs)\n\u001b[0;32m    107\u001b[0m \u001b[38;5;28;01mreturn\u001b[39;00m {k: known_values[k] \u001b[38;5;28;01mfor\u001b[39;00m k \u001b[38;5;129;01min\u001b[39;00m \u001b[38;5;28mself\u001b[39m\u001b[38;5;241m.\u001b[39moutput_variables}\n",
      "File \u001b[1;32m~\\Documents\\Lib\\site-packages\\langchain_core\\_api\\deprecation.py:145\u001b[0m, in \u001b[0;36mdeprecated.<locals>.deprecate.<locals>.warning_emitting_wrapper\u001b[1;34m(*args, **kwargs)\u001b[0m\n\u001b[0;32m    143\u001b[0m     warned \u001b[38;5;241m=\u001b[39m \u001b[38;5;28;01mTrue\u001b[39;00m\n\u001b[0;32m    144\u001b[0m     emit_warning()\n\u001b[1;32m--> 145\u001b[0m \u001b[38;5;28;01mreturn\u001b[39;00m \u001b[43mwrapped\u001b[49m\u001b[43m(\u001b[49m\u001b[38;5;241;43m*\u001b[39;49m\u001b[43margs\u001b[49m\u001b[43m,\u001b[49m\u001b[43m \u001b[49m\u001b[38;5;241;43m*\u001b[39;49m\u001b[38;5;241;43m*\u001b[39;49m\u001b[43mkwargs\u001b[49m\u001b[43m)\u001b[49m\n",
      "File \u001b[1;32m~\\Documents\\Lib\\site-packages\\langchain\\chains\\base.py:378\u001b[0m, in \u001b[0;36mChain.__call__\u001b[1;34m(self, inputs, return_only_outputs, callbacks, tags, metadata, run_name, include_run_info)\u001b[0m\n\u001b[0;32m    346\u001b[0m \u001b[38;5;250m\u001b[39m\u001b[38;5;124;03m\"\"\"Execute the chain.\u001b[39;00m\n\u001b[0;32m    347\u001b[0m \n\u001b[0;32m    348\u001b[0m \u001b[38;5;124;03mArgs:\u001b[39;00m\n\u001b[1;32m   (...)\u001b[0m\n\u001b[0;32m    369\u001b[0m \u001b[38;5;124;03m        `Chain.output_keys`.\u001b[39;00m\n\u001b[0;32m    370\u001b[0m \u001b[38;5;124;03m\"\"\"\u001b[39;00m\n\u001b[0;32m    371\u001b[0m config \u001b[38;5;241m=\u001b[39m {\n\u001b[0;32m    372\u001b[0m     \u001b[38;5;124m\"\u001b[39m\u001b[38;5;124mcallbacks\u001b[39m\u001b[38;5;124m\"\u001b[39m: callbacks,\n\u001b[0;32m    373\u001b[0m     \u001b[38;5;124m\"\u001b[39m\u001b[38;5;124mtags\u001b[39m\u001b[38;5;124m\"\u001b[39m: tags,\n\u001b[0;32m    374\u001b[0m     \u001b[38;5;124m\"\u001b[39m\u001b[38;5;124mmetadata\u001b[39m\u001b[38;5;124m\"\u001b[39m: metadata,\n\u001b[0;32m    375\u001b[0m     \u001b[38;5;124m\"\u001b[39m\u001b[38;5;124mrun_name\u001b[39m\u001b[38;5;124m\"\u001b[39m: run_name,\n\u001b[0;32m    376\u001b[0m }\n\u001b[1;32m--> 378\u001b[0m \u001b[38;5;28;01mreturn\u001b[39;00m \u001b[38;5;28;43mself\u001b[39;49m\u001b[38;5;241;43m.\u001b[39;49m\u001b[43minvoke\u001b[49m\u001b[43m(\u001b[49m\n\u001b[0;32m    379\u001b[0m \u001b[43m    \u001b[49m\u001b[43minputs\u001b[49m\u001b[43m,\u001b[49m\n\u001b[0;32m    380\u001b[0m \u001b[43m    \u001b[49m\u001b[43mcast\u001b[49m\u001b[43m(\u001b[49m\u001b[43mRunnableConfig\u001b[49m\u001b[43m,\u001b[49m\u001b[43m \u001b[49m\u001b[43m{\u001b[49m\u001b[43mk\u001b[49m\u001b[43m:\u001b[49m\u001b[43m \u001b[49m\u001b[43mv\u001b[49m\u001b[43m \u001b[49m\u001b[38;5;28;43;01mfor\u001b[39;49;00m\u001b[43m \u001b[49m\u001b[43mk\u001b[49m\u001b[43m,\u001b[49m\u001b[43m \u001b[49m\u001b[43mv\u001b[49m\u001b[43m \u001b[49m\u001b[38;5;129;43;01min\u001b[39;49;00m\u001b[43m \u001b[49m\u001b[43mconfig\u001b[49m\u001b[38;5;241;43m.\u001b[39;49m\u001b[43mitems\u001b[49m\u001b[43m(\u001b[49m\u001b[43m)\u001b[49m\u001b[43m \u001b[49m\u001b[38;5;28;43;01mif\u001b[39;49;00m\u001b[43m \u001b[49m\u001b[43mv\u001b[49m\u001b[43m \u001b[49m\u001b[38;5;129;43;01mis\u001b[39;49;00m\u001b[43m \u001b[49m\u001b[38;5;129;43;01mnot\u001b[39;49;00m\u001b[43m \u001b[49m\u001b[38;5;28;43;01mNone\u001b[39;49;00m\u001b[43m}\u001b[49m\u001b[43m)\u001b[49m\u001b[43m,\u001b[49m\n\u001b[0;32m    381\u001b[0m \u001b[43m    \u001b[49m\u001b[43mreturn_only_outputs\u001b[49m\u001b[38;5;241;43m=\u001b[39;49m\u001b[43mreturn_only_outputs\u001b[49m\u001b[43m,\u001b[49m\n\u001b[0;32m    382\u001b[0m \u001b[43m    \u001b[49m\u001b[43minclude_run_info\u001b[49m\u001b[38;5;241;43m=\u001b[39;49m\u001b[43minclude_run_info\u001b[49m\u001b[43m,\u001b[49m\n\u001b[0;32m    383\u001b[0m \u001b[43m\u001b[49m\u001b[43m)\u001b[49m\n",
      "File \u001b[1;32m~\\Documents\\Lib\\site-packages\\langchain\\chains\\base.py:163\u001b[0m, in \u001b[0;36mChain.invoke\u001b[1;34m(self, input, config, **kwargs)\u001b[0m\n\u001b[0;32m    161\u001b[0m \u001b[38;5;28;01mexcept\u001b[39;00m \u001b[38;5;167;01mBaseException\u001b[39;00m \u001b[38;5;28;01mas\u001b[39;00m e:\n\u001b[0;32m    162\u001b[0m     run_manager\u001b[38;5;241m.\u001b[39mon_chain_error(e)\n\u001b[1;32m--> 163\u001b[0m     \u001b[38;5;28;01mraise\u001b[39;00m e\n\u001b[0;32m    164\u001b[0m run_manager\u001b[38;5;241m.\u001b[39mon_chain_end(outputs)\n\u001b[0;32m    166\u001b[0m \u001b[38;5;28;01mif\u001b[39;00m include_run_info:\n",
      "File \u001b[1;32m~\\Documents\\Lib\\site-packages\\langchain\\chains\\base.py:153\u001b[0m, in \u001b[0;36mChain.invoke\u001b[1;34m(self, input, config, **kwargs)\u001b[0m\n\u001b[0;32m    150\u001b[0m \u001b[38;5;28;01mtry\u001b[39;00m:\n\u001b[0;32m    151\u001b[0m     \u001b[38;5;28mself\u001b[39m\u001b[38;5;241m.\u001b[39m_validate_inputs(inputs)\n\u001b[0;32m    152\u001b[0m     outputs \u001b[38;5;241m=\u001b[39m (\n\u001b[1;32m--> 153\u001b[0m         \u001b[38;5;28;43mself\u001b[39;49m\u001b[38;5;241;43m.\u001b[39;49m\u001b[43m_call\u001b[49m\u001b[43m(\u001b[49m\u001b[43minputs\u001b[49m\u001b[43m,\u001b[49m\u001b[43m \u001b[49m\u001b[43mrun_manager\u001b[49m\u001b[38;5;241;43m=\u001b[39;49m\u001b[43mrun_manager\u001b[49m\u001b[43m)\u001b[49m\n\u001b[0;32m    154\u001b[0m         \u001b[38;5;28;01mif\u001b[39;00m new_arg_supported\n\u001b[0;32m    155\u001b[0m         \u001b[38;5;28;01melse\u001b[39;00m \u001b[38;5;28mself\u001b[39m\u001b[38;5;241m.\u001b[39m_call(inputs)\n\u001b[0;32m    156\u001b[0m     )\n\u001b[0;32m    158\u001b[0m     final_outputs: Dict[\u001b[38;5;28mstr\u001b[39m, Any] \u001b[38;5;241m=\u001b[39m \u001b[38;5;28mself\u001b[39m\u001b[38;5;241m.\u001b[39mprep_outputs(\n\u001b[0;32m    159\u001b[0m         inputs, outputs, return_only_outputs\n\u001b[0;32m    160\u001b[0m     )\n\u001b[0;32m    161\u001b[0m \u001b[38;5;28;01mexcept\u001b[39;00m \u001b[38;5;167;01mBaseException\u001b[39;00m \u001b[38;5;28;01mas\u001b[39;00m e:\n",
      "File \u001b[1;32m~\\Documents\\Lib\\site-packages\\langchain\\chains\\llm.py:103\u001b[0m, in \u001b[0;36mLLMChain._call\u001b[1;34m(self, inputs, run_manager)\u001b[0m\n\u001b[0;32m     98\u001b[0m \u001b[38;5;28;01mdef\u001b[39;00m \u001b[38;5;21m_call\u001b[39m(\n\u001b[0;32m     99\u001b[0m     \u001b[38;5;28mself\u001b[39m,\n\u001b[0;32m    100\u001b[0m     inputs: Dict[\u001b[38;5;28mstr\u001b[39m, Any],\n\u001b[0;32m    101\u001b[0m     run_manager: Optional[CallbackManagerForChainRun] \u001b[38;5;241m=\u001b[39m \u001b[38;5;28;01mNone\u001b[39;00m,\n\u001b[0;32m    102\u001b[0m ) \u001b[38;5;241m-\u001b[39m\u001b[38;5;241m>\u001b[39m Dict[\u001b[38;5;28mstr\u001b[39m, \u001b[38;5;28mstr\u001b[39m]:\n\u001b[1;32m--> 103\u001b[0m     response \u001b[38;5;241m=\u001b[39m \u001b[38;5;28;43mself\u001b[39;49m\u001b[38;5;241;43m.\u001b[39;49m\u001b[43mgenerate\u001b[49m\u001b[43m(\u001b[49m\u001b[43m[\u001b[49m\u001b[43minputs\u001b[49m\u001b[43m]\u001b[49m\u001b[43m,\u001b[49m\u001b[43m \u001b[49m\u001b[43mrun_manager\u001b[49m\u001b[38;5;241;43m=\u001b[39;49m\u001b[43mrun_manager\u001b[49m\u001b[43m)\u001b[49m\n\u001b[0;32m    104\u001b[0m     \u001b[38;5;28;01mreturn\u001b[39;00m \u001b[38;5;28mself\u001b[39m\u001b[38;5;241m.\u001b[39mcreate_outputs(response)[\u001b[38;5;241m0\u001b[39m]\n",
      "File \u001b[1;32m~\\Documents\\Lib\\site-packages\\langchain\\chains\\llm.py:115\u001b[0m, in \u001b[0;36mLLMChain.generate\u001b[1;34m(self, input_list, run_manager)\u001b[0m\n\u001b[0;32m    113\u001b[0m callbacks \u001b[38;5;241m=\u001b[39m run_manager\u001b[38;5;241m.\u001b[39mget_child() \u001b[38;5;28;01mif\u001b[39;00m run_manager \u001b[38;5;28;01melse\u001b[39;00m \u001b[38;5;28;01mNone\u001b[39;00m\n\u001b[0;32m    114\u001b[0m \u001b[38;5;28;01mif\u001b[39;00m \u001b[38;5;28misinstance\u001b[39m(\u001b[38;5;28mself\u001b[39m\u001b[38;5;241m.\u001b[39mllm, BaseLanguageModel):\n\u001b[1;32m--> 115\u001b[0m     \u001b[38;5;28;01mreturn\u001b[39;00m \u001b[38;5;28;43mself\u001b[39;49m\u001b[38;5;241;43m.\u001b[39;49m\u001b[43mllm\u001b[49m\u001b[38;5;241;43m.\u001b[39;49m\u001b[43mgenerate_prompt\u001b[49m\u001b[43m(\u001b[49m\n\u001b[0;32m    116\u001b[0m \u001b[43m        \u001b[49m\u001b[43mprompts\u001b[49m\u001b[43m,\u001b[49m\n\u001b[0;32m    117\u001b[0m \u001b[43m        \u001b[49m\u001b[43mstop\u001b[49m\u001b[43m,\u001b[49m\n\u001b[0;32m    118\u001b[0m \u001b[43m        \u001b[49m\u001b[43mcallbacks\u001b[49m\u001b[38;5;241;43m=\u001b[39;49m\u001b[43mcallbacks\u001b[49m\u001b[43m,\u001b[49m\n\u001b[0;32m    119\u001b[0m \u001b[43m        \u001b[49m\u001b[38;5;241;43m*\u001b[39;49m\u001b[38;5;241;43m*\u001b[39;49m\u001b[38;5;28;43mself\u001b[39;49m\u001b[38;5;241;43m.\u001b[39;49m\u001b[43mllm_kwargs\u001b[49m\u001b[43m,\u001b[49m\n\u001b[0;32m    120\u001b[0m \u001b[43m    \u001b[49m\u001b[43m)\u001b[49m\n\u001b[0;32m    121\u001b[0m \u001b[38;5;28;01melse\u001b[39;00m:\n\u001b[0;32m    122\u001b[0m     results \u001b[38;5;241m=\u001b[39m \u001b[38;5;28mself\u001b[39m\u001b[38;5;241m.\u001b[39mllm\u001b[38;5;241m.\u001b[39mbind(stop\u001b[38;5;241m=\u001b[39mstop, \u001b[38;5;241m*\u001b[39m\u001b[38;5;241m*\u001b[39m\u001b[38;5;28mself\u001b[39m\u001b[38;5;241m.\u001b[39mllm_kwargs)\u001b[38;5;241m.\u001b[39mbatch(\n\u001b[0;32m    123\u001b[0m         cast(List, prompts), {\u001b[38;5;124m\"\u001b[39m\u001b[38;5;124mcallbacks\u001b[39m\u001b[38;5;124m\"\u001b[39m: callbacks}\n\u001b[0;32m    124\u001b[0m     )\n",
      "File \u001b[1;32m~\\Documents\\Lib\\site-packages\\langchain_core\\language_models\\chat_models.py:544\u001b[0m, in \u001b[0;36mBaseChatModel.generate_prompt\u001b[1;34m(self, prompts, stop, callbacks, **kwargs)\u001b[0m\n\u001b[0;32m    536\u001b[0m \u001b[38;5;28;01mdef\u001b[39;00m \u001b[38;5;21mgenerate_prompt\u001b[39m(\n\u001b[0;32m    537\u001b[0m     \u001b[38;5;28mself\u001b[39m,\n\u001b[0;32m    538\u001b[0m     prompts: List[PromptValue],\n\u001b[1;32m   (...)\u001b[0m\n\u001b[0;32m    541\u001b[0m     \u001b[38;5;241m*\u001b[39m\u001b[38;5;241m*\u001b[39mkwargs: Any,\n\u001b[0;32m    542\u001b[0m ) \u001b[38;5;241m-\u001b[39m\u001b[38;5;241m>\u001b[39m LLMResult:\n\u001b[0;32m    543\u001b[0m     prompt_messages \u001b[38;5;241m=\u001b[39m [p\u001b[38;5;241m.\u001b[39mto_messages() \u001b[38;5;28;01mfor\u001b[39;00m p \u001b[38;5;129;01min\u001b[39;00m prompts]\n\u001b[1;32m--> 544\u001b[0m     \u001b[38;5;28;01mreturn\u001b[39;00m \u001b[38;5;28;43mself\u001b[39;49m\u001b[38;5;241;43m.\u001b[39;49m\u001b[43mgenerate\u001b[49m\u001b[43m(\u001b[49m\u001b[43mprompt_messages\u001b[49m\u001b[43m,\u001b[49m\u001b[43m \u001b[49m\u001b[43mstop\u001b[49m\u001b[38;5;241;43m=\u001b[39;49m\u001b[43mstop\u001b[49m\u001b[43m,\u001b[49m\u001b[43m \u001b[49m\u001b[43mcallbacks\u001b[49m\u001b[38;5;241;43m=\u001b[39;49m\u001b[43mcallbacks\u001b[49m\u001b[43m,\u001b[49m\u001b[43m \u001b[49m\u001b[38;5;241;43m*\u001b[39;49m\u001b[38;5;241;43m*\u001b[39;49m\u001b[43mkwargs\u001b[49m\u001b[43m)\u001b[49m\n",
      "File \u001b[1;32m~\\Documents\\Lib\\site-packages\\langchain_core\\language_models\\chat_models.py:408\u001b[0m, in \u001b[0;36mBaseChatModel.generate\u001b[1;34m(self, messages, stop, callbacks, tags, metadata, run_name, **kwargs)\u001b[0m\n\u001b[0;32m    406\u001b[0m         \u001b[38;5;28;01mif\u001b[39;00m run_managers:\n\u001b[0;32m    407\u001b[0m             run_managers[i]\u001b[38;5;241m.\u001b[39mon_llm_error(e, response\u001b[38;5;241m=\u001b[39mLLMResult(generations\u001b[38;5;241m=\u001b[39m[]))\n\u001b[1;32m--> 408\u001b[0m         \u001b[38;5;28;01mraise\u001b[39;00m e\n\u001b[0;32m    409\u001b[0m flattened_outputs \u001b[38;5;241m=\u001b[39m [\n\u001b[0;32m    410\u001b[0m     LLMResult(generations\u001b[38;5;241m=\u001b[39m[res\u001b[38;5;241m.\u001b[39mgenerations], llm_output\u001b[38;5;241m=\u001b[39mres\u001b[38;5;241m.\u001b[39mllm_output)\n\u001b[0;32m    411\u001b[0m     \u001b[38;5;28;01mfor\u001b[39;00m res \u001b[38;5;129;01min\u001b[39;00m results\n\u001b[0;32m    412\u001b[0m ]\n\u001b[0;32m    413\u001b[0m llm_output \u001b[38;5;241m=\u001b[39m \u001b[38;5;28mself\u001b[39m\u001b[38;5;241m.\u001b[39m_combine_llm_outputs([res\u001b[38;5;241m.\u001b[39mllm_output \u001b[38;5;28;01mfor\u001b[39;00m res \u001b[38;5;129;01min\u001b[39;00m results])\n",
      "File \u001b[1;32m~\\Documents\\Lib\\site-packages\\langchain_core\\language_models\\chat_models.py:398\u001b[0m, in \u001b[0;36mBaseChatModel.generate\u001b[1;34m(self, messages, stop, callbacks, tags, metadata, run_name, **kwargs)\u001b[0m\n\u001b[0;32m    395\u001b[0m \u001b[38;5;28;01mfor\u001b[39;00m i, m \u001b[38;5;129;01min\u001b[39;00m \u001b[38;5;28menumerate\u001b[39m(messages):\n\u001b[0;32m    396\u001b[0m     \u001b[38;5;28;01mtry\u001b[39;00m:\n\u001b[0;32m    397\u001b[0m         results\u001b[38;5;241m.\u001b[39mappend(\n\u001b[1;32m--> 398\u001b[0m             \u001b[38;5;28;43mself\u001b[39;49m\u001b[38;5;241;43m.\u001b[39;49m\u001b[43m_generate_with_cache\u001b[49m\u001b[43m(\u001b[49m\n\u001b[0;32m    399\u001b[0m \u001b[43m                \u001b[49m\u001b[43mm\u001b[49m\u001b[43m,\u001b[49m\n\u001b[0;32m    400\u001b[0m \u001b[43m                \u001b[49m\u001b[43mstop\u001b[49m\u001b[38;5;241;43m=\u001b[39;49m\u001b[43mstop\u001b[49m\u001b[43m,\u001b[49m\n\u001b[0;32m    401\u001b[0m \u001b[43m                \u001b[49m\u001b[43mrun_manager\u001b[49m\u001b[38;5;241;43m=\u001b[39;49m\u001b[43mrun_managers\u001b[49m\u001b[43m[\u001b[49m\u001b[43mi\u001b[49m\u001b[43m]\u001b[49m\u001b[43m \u001b[49m\u001b[38;5;28;43;01mif\u001b[39;49;00m\u001b[43m \u001b[49m\u001b[43mrun_managers\u001b[49m\u001b[43m \u001b[49m\u001b[38;5;28;43;01melse\u001b[39;49;00m\u001b[43m \u001b[49m\u001b[38;5;28;43;01mNone\u001b[39;49;00m\u001b[43m,\u001b[49m\n\u001b[0;32m    402\u001b[0m \u001b[43m                \u001b[49m\u001b[38;5;241;43m*\u001b[39;49m\u001b[38;5;241;43m*\u001b[39;49m\u001b[43mkwargs\u001b[49m\u001b[43m,\u001b[49m\n\u001b[0;32m    403\u001b[0m \u001b[43m            \u001b[49m\u001b[43m)\u001b[49m\n\u001b[0;32m    404\u001b[0m         )\n\u001b[0;32m    405\u001b[0m     \u001b[38;5;28;01mexcept\u001b[39;00m \u001b[38;5;167;01mBaseException\u001b[39;00m \u001b[38;5;28;01mas\u001b[39;00m e:\n\u001b[0;32m    406\u001b[0m         \u001b[38;5;28;01mif\u001b[39;00m run_managers:\n",
      "File \u001b[1;32m~\\Documents\\Lib\\site-packages\\langchain_core\\language_models\\chat_models.py:577\u001b[0m, in \u001b[0;36mBaseChatModel._generate_with_cache\u001b[1;34m(self, messages, stop, run_manager, **kwargs)\u001b[0m\n\u001b[0;32m    573\u001b[0m     \u001b[38;5;28;01mraise\u001b[39;00m \u001b[38;5;167;01mValueError\u001b[39;00m(\n\u001b[0;32m    574\u001b[0m         \u001b[38;5;124m\"\u001b[39m\u001b[38;5;124mAsked to cache, but no cache found at `langchain.cache`.\u001b[39m\u001b[38;5;124m\"\u001b[39m\n\u001b[0;32m    575\u001b[0m     )\n\u001b[0;32m    576\u001b[0m \u001b[38;5;28;01mif\u001b[39;00m new_arg_supported:\n\u001b[1;32m--> 577\u001b[0m     \u001b[38;5;28;01mreturn\u001b[39;00m \u001b[38;5;28;43mself\u001b[39;49m\u001b[38;5;241;43m.\u001b[39;49m\u001b[43m_generate\u001b[49m\u001b[43m(\u001b[49m\n\u001b[0;32m    578\u001b[0m \u001b[43m        \u001b[49m\u001b[43mmessages\u001b[49m\u001b[43m,\u001b[49m\u001b[43m \u001b[49m\u001b[43mstop\u001b[49m\u001b[38;5;241;43m=\u001b[39;49m\u001b[43mstop\u001b[49m\u001b[43m,\u001b[49m\u001b[43m \u001b[49m\u001b[43mrun_manager\u001b[49m\u001b[38;5;241;43m=\u001b[39;49m\u001b[43mrun_manager\u001b[49m\u001b[43m,\u001b[49m\u001b[43m \u001b[49m\u001b[38;5;241;43m*\u001b[39;49m\u001b[38;5;241;43m*\u001b[39;49m\u001b[43mkwargs\u001b[49m\n\u001b[0;32m    579\u001b[0m \u001b[43m    \u001b[49m\u001b[43m)\u001b[49m\n\u001b[0;32m    580\u001b[0m \u001b[38;5;28;01melse\u001b[39;00m:\n\u001b[0;32m    581\u001b[0m     \u001b[38;5;28;01mreturn\u001b[39;00m \u001b[38;5;28mself\u001b[39m\u001b[38;5;241m.\u001b[39m_generate(messages, stop\u001b[38;5;241m=\u001b[39mstop, \u001b[38;5;241m*\u001b[39m\u001b[38;5;241m*\u001b[39mkwargs)\n",
      "File \u001b[1;32m~\\Documents\\Lib\\site-packages\\langchain_openai\\chat_models\\base.py:462\u001b[0m, in \u001b[0;36mChatOpenAI._generate\u001b[1;34m(self, messages, stop, run_manager, stream, **kwargs)\u001b[0m\n\u001b[0;32m    456\u001b[0m message_dicts, params \u001b[38;5;241m=\u001b[39m \u001b[38;5;28mself\u001b[39m\u001b[38;5;241m.\u001b[39m_create_message_dicts(messages, stop)\n\u001b[0;32m    457\u001b[0m params \u001b[38;5;241m=\u001b[39m {\n\u001b[0;32m    458\u001b[0m     \u001b[38;5;241m*\u001b[39m\u001b[38;5;241m*\u001b[39mparams,\n\u001b[0;32m    459\u001b[0m     \u001b[38;5;241m*\u001b[39m\u001b[38;5;241m*\u001b[39m({\u001b[38;5;124m\"\u001b[39m\u001b[38;5;124mstream\u001b[39m\u001b[38;5;124m\"\u001b[39m: stream} \u001b[38;5;28;01mif\u001b[39;00m stream \u001b[38;5;129;01mis\u001b[39;00m \u001b[38;5;129;01mnot\u001b[39;00m \u001b[38;5;28;01mNone\u001b[39;00m \u001b[38;5;28;01melse\u001b[39;00m {}),\n\u001b[0;32m    460\u001b[0m     \u001b[38;5;241m*\u001b[39m\u001b[38;5;241m*\u001b[39mkwargs,\n\u001b[0;32m    461\u001b[0m }\n\u001b[1;32m--> 462\u001b[0m response \u001b[38;5;241m=\u001b[39m \u001b[38;5;28;43mself\u001b[39;49m\u001b[38;5;241;43m.\u001b[39;49m\u001b[43mclient\u001b[49m\u001b[38;5;241;43m.\u001b[39;49m\u001b[43mcreate\u001b[49m\u001b[43m(\u001b[49m\u001b[43mmessages\u001b[49m\u001b[38;5;241;43m=\u001b[39;49m\u001b[43mmessage_dicts\u001b[49m\u001b[43m,\u001b[49m\u001b[43m \u001b[49m\u001b[38;5;241;43m*\u001b[39;49m\u001b[38;5;241;43m*\u001b[39;49m\u001b[43mparams\u001b[49m\u001b[43m)\u001b[49m\n\u001b[0;32m    463\u001b[0m \u001b[38;5;28;01mreturn\u001b[39;00m \u001b[38;5;28mself\u001b[39m\u001b[38;5;241m.\u001b[39m_create_chat_result(response)\n",
      "File \u001b[1;32m~\\Documents\\Lib\\site-packages\\openai\\_utils\\_utils.py:275\u001b[0m, in \u001b[0;36mrequired_args.<locals>.inner.<locals>.wrapper\u001b[1;34m(*args, **kwargs)\u001b[0m\n\u001b[0;32m    273\u001b[0m             msg \u001b[38;5;241m=\u001b[39m \u001b[38;5;124mf\u001b[39m\u001b[38;5;124m\"\u001b[39m\u001b[38;5;124mMissing required argument: \u001b[39m\u001b[38;5;132;01m{\u001b[39;00mquote(missing[\u001b[38;5;241m0\u001b[39m])\u001b[38;5;132;01m}\u001b[39;00m\u001b[38;5;124m\"\u001b[39m\n\u001b[0;32m    274\u001b[0m     \u001b[38;5;28;01mraise\u001b[39;00m \u001b[38;5;167;01mTypeError\u001b[39;00m(msg)\n\u001b[1;32m--> 275\u001b[0m \u001b[38;5;28;01mreturn\u001b[39;00m \u001b[43mfunc\u001b[49m\u001b[43m(\u001b[49m\u001b[38;5;241;43m*\u001b[39;49m\u001b[43margs\u001b[49m\u001b[43m,\u001b[49m\u001b[43m \u001b[49m\u001b[38;5;241;43m*\u001b[39;49m\u001b[38;5;241;43m*\u001b[39;49m\u001b[43mkwargs\u001b[49m\u001b[43m)\u001b[49m\n",
      "File \u001b[1;32m~\\Documents\\Lib\\site-packages\\openai\\resources\\chat\\completions.py:663\u001b[0m, in \u001b[0;36mCompletions.create\u001b[1;34m(self, messages, model, frequency_penalty, function_call, functions, logit_bias, logprobs, max_tokens, n, presence_penalty, response_format, seed, stop, stream, temperature, tool_choice, tools, top_logprobs, top_p, user, extra_headers, extra_query, extra_body, timeout)\u001b[0m\n\u001b[0;32m    611\u001b[0m \u001b[38;5;129m@required_args\u001b[39m([\u001b[38;5;124m\"\u001b[39m\u001b[38;5;124mmessages\u001b[39m\u001b[38;5;124m\"\u001b[39m, \u001b[38;5;124m\"\u001b[39m\u001b[38;5;124mmodel\u001b[39m\u001b[38;5;124m\"\u001b[39m], [\u001b[38;5;124m\"\u001b[39m\u001b[38;5;124mmessages\u001b[39m\u001b[38;5;124m\"\u001b[39m, \u001b[38;5;124m\"\u001b[39m\u001b[38;5;124mmodel\u001b[39m\u001b[38;5;124m\"\u001b[39m, \u001b[38;5;124m\"\u001b[39m\u001b[38;5;124mstream\u001b[39m\u001b[38;5;124m\"\u001b[39m])\n\u001b[0;32m    612\u001b[0m \u001b[38;5;28;01mdef\u001b[39;00m \u001b[38;5;21mcreate\u001b[39m(\n\u001b[0;32m    613\u001b[0m     \u001b[38;5;28mself\u001b[39m,\n\u001b[1;32m   (...)\u001b[0m\n\u001b[0;32m    661\u001b[0m     timeout: \u001b[38;5;28mfloat\u001b[39m \u001b[38;5;241m|\u001b[39m httpx\u001b[38;5;241m.\u001b[39mTimeout \u001b[38;5;241m|\u001b[39m \u001b[38;5;28;01mNone\u001b[39;00m \u001b[38;5;241m|\u001b[39m NotGiven \u001b[38;5;241m=\u001b[39m NOT_GIVEN,\n\u001b[0;32m    662\u001b[0m ) \u001b[38;5;241m-\u001b[39m\u001b[38;5;241m>\u001b[39m ChatCompletion \u001b[38;5;241m|\u001b[39m Stream[ChatCompletionChunk]:\n\u001b[1;32m--> 663\u001b[0m     \u001b[38;5;28;01mreturn\u001b[39;00m \u001b[38;5;28;43mself\u001b[39;49m\u001b[38;5;241;43m.\u001b[39;49m\u001b[43m_post\u001b[49m\u001b[43m(\u001b[49m\n\u001b[0;32m    664\u001b[0m \u001b[43m        \u001b[49m\u001b[38;5;124;43m\"\u001b[39;49m\u001b[38;5;124;43m/chat/completions\u001b[39;49m\u001b[38;5;124;43m\"\u001b[39;49m\u001b[43m,\u001b[49m\n\u001b[0;32m    665\u001b[0m \u001b[43m        \u001b[49m\u001b[43mbody\u001b[49m\u001b[38;5;241;43m=\u001b[39;49m\u001b[43mmaybe_transform\u001b[49m\u001b[43m(\u001b[49m\n\u001b[0;32m    666\u001b[0m \u001b[43m            \u001b[49m\u001b[43m{\u001b[49m\n\u001b[0;32m    667\u001b[0m \u001b[43m                \u001b[49m\u001b[38;5;124;43m\"\u001b[39;49m\u001b[38;5;124;43mmessages\u001b[39;49m\u001b[38;5;124;43m\"\u001b[39;49m\u001b[43m:\u001b[49m\u001b[43m \u001b[49m\u001b[43mmessages\u001b[49m\u001b[43m,\u001b[49m\n\u001b[0;32m    668\u001b[0m \u001b[43m                \u001b[49m\u001b[38;5;124;43m\"\u001b[39;49m\u001b[38;5;124;43mmodel\u001b[39;49m\u001b[38;5;124;43m\"\u001b[39;49m\u001b[43m:\u001b[49m\u001b[43m \u001b[49m\u001b[43mmodel\u001b[49m\u001b[43m,\u001b[49m\n\u001b[0;32m    669\u001b[0m \u001b[43m                \u001b[49m\u001b[38;5;124;43m\"\u001b[39;49m\u001b[38;5;124;43mfrequency_penalty\u001b[39;49m\u001b[38;5;124;43m\"\u001b[39;49m\u001b[43m:\u001b[49m\u001b[43m \u001b[49m\u001b[43mfrequency_penalty\u001b[49m\u001b[43m,\u001b[49m\n\u001b[0;32m    670\u001b[0m \u001b[43m                \u001b[49m\u001b[38;5;124;43m\"\u001b[39;49m\u001b[38;5;124;43mfunction_call\u001b[39;49m\u001b[38;5;124;43m\"\u001b[39;49m\u001b[43m:\u001b[49m\u001b[43m \u001b[49m\u001b[43mfunction_call\u001b[49m\u001b[43m,\u001b[49m\n\u001b[0;32m    671\u001b[0m \u001b[43m                \u001b[49m\u001b[38;5;124;43m\"\u001b[39;49m\u001b[38;5;124;43mfunctions\u001b[39;49m\u001b[38;5;124;43m\"\u001b[39;49m\u001b[43m:\u001b[49m\u001b[43m \u001b[49m\u001b[43mfunctions\u001b[49m\u001b[43m,\u001b[49m\n\u001b[0;32m    672\u001b[0m \u001b[43m                \u001b[49m\u001b[38;5;124;43m\"\u001b[39;49m\u001b[38;5;124;43mlogit_bias\u001b[39;49m\u001b[38;5;124;43m\"\u001b[39;49m\u001b[43m:\u001b[49m\u001b[43m \u001b[49m\u001b[43mlogit_bias\u001b[49m\u001b[43m,\u001b[49m\n\u001b[0;32m    673\u001b[0m \u001b[43m                \u001b[49m\u001b[38;5;124;43m\"\u001b[39;49m\u001b[38;5;124;43mlogprobs\u001b[39;49m\u001b[38;5;124;43m\"\u001b[39;49m\u001b[43m:\u001b[49m\u001b[43m \u001b[49m\u001b[43mlogprobs\u001b[49m\u001b[43m,\u001b[49m\n\u001b[0;32m    674\u001b[0m \u001b[43m                \u001b[49m\u001b[38;5;124;43m\"\u001b[39;49m\u001b[38;5;124;43mmax_tokens\u001b[39;49m\u001b[38;5;124;43m\"\u001b[39;49m\u001b[43m:\u001b[49m\u001b[43m \u001b[49m\u001b[43mmax_tokens\u001b[49m\u001b[43m,\u001b[49m\n\u001b[0;32m    675\u001b[0m \u001b[43m                \u001b[49m\u001b[38;5;124;43m\"\u001b[39;49m\u001b[38;5;124;43mn\u001b[39;49m\u001b[38;5;124;43m\"\u001b[39;49m\u001b[43m:\u001b[49m\u001b[43m \u001b[49m\u001b[43mn\u001b[49m\u001b[43m,\u001b[49m\n\u001b[0;32m    676\u001b[0m \u001b[43m                \u001b[49m\u001b[38;5;124;43m\"\u001b[39;49m\u001b[38;5;124;43mpresence_penalty\u001b[39;49m\u001b[38;5;124;43m\"\u001b[39;49m\u001b[43m:\u001b[49m\u001b[43m \u001b[49m\u001b[43mpresence_penalty\u001b[49m\u001b[43m,\u001b[49m\n\u001b[0;32m    677\u001b[0m \u001b[43m                \u001b[49m\u001b[38;5;124;43m\"\u001b[39;49m\u001b[38;5;124;43mresponse_format\u001b[39;49m\u001b[38;5;124;43m\"\u001b[39;49m\u001b[43m:\u001b[49m\u001b[43m \u001b[49m\u001b[43mresponse_format\u001b[49m\u001b[43m,\u001b[49m\n\u001b[0;32m    678\u001b[0m \u001b[43m                \u001b[49m\u001b[38;5;124;43m\"\u001b[39;49m\u001b[38;5;124;43mseed\u001b[39;49m\u001b[38;5;124;43m\"\u001b[39;49m\u001b[43m:\u001b[49m\u001b[43m \u001b[49m\u001b[43mseed\u001b[49m\u001b[43m,\u001b[49m\n\u001b[0;32m    679\u001b[0m \u001b[43m                \u001b[49m\u001b[38;5;124;43m\"\u001b[39;49m\u001b[38;5;124;43mstop\u001b[39;49m\u001b[38;5;124;43m\"\u001b[39;49m\u001b[43m:\u001b[49m\u001b[43m \u001b[49m\u001b[43mstop\u001b[49m\u001b[43m,\u001b[49m\n\u001b[0;32m    680\u001b[0m \u001b[43m                \u001b[49m\u001b[38;5;124;43m\"\u001b[39;49m\u001b[38;5;124;43mstream\u001b[39;49m\u001b[38;5;124;43m\"\u001b[39;49m\u001b[43m:\u001b[49m\u001b[43m \u001b[49m\u001b[43mstream\u001b[49m\u001b[43m,\u001b[49m\n\u001b[0;32m    681\u001b[0m \u001b[43m                \u001b[49m\u001b[38;5;124;43m\"\u001b[39;49m\u001b[38;5;124;43mtemperature\u001b[39;49m\u001b[38;5;124;43m\"\u001b[39;49m\u001b[43m:\u001b[49m\u001b[43m \u001b[49m\u001b[43mtemperature\u001b[49m\u001b[43m,\u001b[49m\n\u001b[0;32m    682\u001b[0m \u001b[43m                \u001b[49m\u001b[38;5;124;43m\"\u001b[39;49m\u001b[38;5;124;43mtool_choice\u001b[39;49m\u001b[38;5;124;43m\"\u001b[39;49m\u001b[43m:\u001b[49m\u001b[43m \u001b[49m\u001b[43mtool_choice\u001b[49m\u001b[43m,\u001b[49m\n\u001b[0;32m    683\u001b[0m \u001b[43m                \u001b[49m\u001b[38;5;124;43m\"\u001b[39;49m\u001b[38;5;124;43mtools\u001b[39;49m\u001b[38;5;124;43m\"\u001b[39;49m\u001b[43m:\u001b[49m\u001b[43m \u001b[49m\u001b[43mtools\u001b[49m\u001b[43m,\u001b[49m\n\u001b[0;32m    684\u001b[0m \u001b[43m                \u001b[49m\u001b[38;5;124;43m\"\u001b[39;49m\u001b[38;5;124;43mtop_logprobs\u001b[39;49m\u001b[38;5;124;43m\"\u001b[39;49m\u001b[43m:\u001b[49m\u001b[43m \u001b[49m\u001b[43mtop_logprobs\u001b[49m\u001b[43m,\u001b[49m\n\u001b[0;32m    685\u001b[0m \u001b[43m                \u001b[49m\u001b[38;5;124;43m\"\u001b[39;49m\u001b[38;5;124;43mtop_p\u001b[39;49m\u001b[38;5;124;43m\"\u001b[39;49m\u001b[43m:\u001b[49m\u001b[43m \u001b[49m\u001b[43mtop_p\u001b[49m\u001b[43m,\u001b[49m\n\u001b[0;32m    686\u001b[0m \u001b[43m                \u001b[49m\u001b[38;5;124;43m\"\u001b[39;49m\u001b[38;5;124;43muser\u001b[39;49m\u001b[38;5;124;43m\"\u001b[39;49m\u001b[43m:\u001b[49m\u001b[43m \u001b[49m\u001b[43muser\u001b[49m\u001b[43m,\u001b[49m\n\u001b[0;32m    687\u001b[0m \u001b[43m            \u001b[49m\u001b[43m}\u001b[49m\u001b[43m,\u001b[49m\n\u001b[0;32m    688\u001b[0m \u001b[43m            \u001b[49m\u001b[43mcompletion_create_params\u001b[49m\u001b[38;5;241;43m.\u001b[39;49m\u001b[43mCompletionCreateParams\u001b[49m\u001b[43m,\u001b[49m\n\u001b[0;32m    689\u001b[0m \u001b[43m        \u001b[49m\u001b[43m)\u001b[49m\u001b[43m,\u001b[49m\n\u001b[0;32m    690\u001b[0m \u001b[43m        \u001b[49m\u001b[43moptions\u001b[49m\u001b[38;5;241;43m=\u001b[39;49m\u001b[43mmake_request_options\u001b[49m\u001b[43m(\u001b[49m\n\u001b[0;32m    691\u001b[0m \u001b[43m            \u001b[49m\u001b[43mextra_headers\u001b[49m\u001b[38;5;241;43m=\u001b[39;49m\u001b[43mextra_headers\u001b[49m\u001b[43m,\u001b[49m\u001b[43m \u001b[49m\u001b[43mextra_query\u001b[49m\u001b[38;5;241;43m=\u001b[39;49m\u001b[43mextra_query\u001b[49m\u001b[43m,\u001b[49m\u001b[43m \u001b[49m\u001b[43mextra_body\u001b[49m\u001b[38;5;241;43m=\u001b[39;49m\u001b[43mextra_body\u001b[49m\u001b[43m,\u001b[49m\u001b[43m \u001b[49m\u001b[43mtimeout\u001b[49m\u001b[38;5;241;43m=\u001b[39;49m\u001b[43mtimeout\u001b[49m\n\u001b[0;32m    692\u001b[0m \u001b[43m        \u001b[49m\u001b[43m)\u001b[49m\u001b[43m,\u001b[49m\n\u001b[0;32m    693\u001b[0m \u001b[43m        \u001b[49m\u001b[43mcast_to\u001b[49m\u001b[38;5;241;43m=\u001b[39;49m\u001b[43mChatCompletion\u001b[49m\u001b[43m,\u001b[49m\n\u001b[0;32m    694\u001b[0m \u001b[43m        \u001b[49m\u001b[43mstream\u001b[49m\u001b[38;5;241;43m=\u001b[39;49m\u001b[43mstream\u001b[49m\u001b[43m \u001b[49m\u001b[38;5;129;43;01mor\u001b[39;49;00m\u001b[43m \u001b[49m\u001b[38;5;28;43;01mFalse\u001b[39;49;00m\u001b[43m,\u001b[49m\n\u001b[0;32m    695\u001b[0m \u001b[43m        \u001b[49m\u001b[43mstream_cls\u001b[49m\u001b[38;5;241;43m=\u001b[39;49m\u001b[43mStream\u001b[49m\u001b[43m[\u001b[49m\u001b[43mChatCompletionChunk\u001b[49m\u001b[43m]\u001b[49m\u001b[43m,\u001b[49m\n\u001b[0;32m    696\u001b[0m \u001b[43m    \u001b[49m\u001b[43m)\u001b[49m\n",
      "File \u001b[1;32m~\\Documents\\Lib\\site-packages\\openai\\_base_client.py:1200\u001b[0m, in \u001b[0;36mSyncAPIClient.post\u001b[1;34m(self, path, cast_to, body, options, files, stream, stream_cls)\u001b[0m\n\u001b[0;32m   1186\u001b[0m \u001b[38;5;28;01mdef\u001b[39;00m \u001b[38;5;21mpost\u001b[39m(\n\u001b[0;32m   1187\u001b[0m     \u001b[38;5;28mself\u001b[39m,\n\u001b[0;32m   1188\u001b[0m     path: \u001b[38;5;28mstr\u001b[39m,\n\u001b[1;32m   (...)\u001b[0m\n\u001b[0;32m   1195\u001b[0m     stream_cls: \u001b[38;5;28mtype\u001b[39m[_StreamT] \u001b[38;5;241m|\u001b[39m \u001b[38;5;28;01mNone\u001b[39;00m \u001b[38;5;241m=\u001b[39m \u001b[38;5;28;01mNone\u001b[39;00m,\n\u001b[0;32m   1196\u001b[0m ) \u001b[38;5;241m-\u001b[39m\u001b[38;5;241m>\u001b[39m ResponseT \u001b[38;5;241m|\u001b[39m _StreamT:\n\u001b[0;32m   1197\u001b[0m     opts \u001b[38;5;241m=\u001b[39m FinalRequestOptions\u001b[38;5;241m.\u001b[39mconstruct(\n\u001b[0;32m   1198\u001b[0m         method\u001b[38;5;241m=\u001b[39m\u001b[38;5;124m\"\u001b[39m\u001b[38;5;124mpost\u001b[39m\u001b[38;5;124m\"\u001b[39m, url\u001b[38;5;241m=\u001b[39mpath, json_data\u001b[38;5;241m=\u001b[39mbody, files\u001b[38;5;241m=\u001b[39mto_httpx_files(files), \u001b[38;5;241m*\u001b[39m\u001b[38;5;241m*\u001b[39moptions\n\u001b[0;32m   1199\u001b[0m     )\n\u001b[1;32m-> 1200\u001b[0m     \u001b[38;5;28;01mreturn\u001b[39;00m cast(ResponseT, \u001b[38;5;28;43mself\u001b[39;49m\u001b[38;5;241;43m.\u001b[39;49m\u001b[43mrequest\u001b[49m\u001b[43m(\u001b[49m\u001b[43mcast_to\u001b[49m\u001b[43m,\u001b[49m\u001b[43m \u001b[49m\u001b[43mopts\u001b[49m\u001b[43m,\u001b[49m\u001b[43m \u001b[49m\u001b[43mstream\u001b[49m\u001b[38;5;241;43m=\u001b[39;49m\u001b[43mstream\u001b[49m\u001b[43m,\u001b[49m\u001b[43m \u001b[49m\u001b[43mstream_cls\u001b[49m\u001b[38;5;241;43m=\u001b[39;49m\u001b[43mstream_cls\u001b[49m\u001b[43m)\u001b[49m)\n",
      "File \u001b[1;32m~\\Documents\\Lib\\site-packages\\openai\\_base_client.py:889\u001b[0m, in \u001b[0;36mSyncAPIClient.request\u001b[1;34m(self, cast_to, options, remaining_retries, stream, stream_cls)\u001b[0m\n\u001b[0;32m    880\u001b[0m \u001b[38;5;28;01mdef\u001b[39;00m \u001b[38;5;21mrequest\u001b[39m(\n\u001b[0;32m    881\u001b[0m     \u001b[38;5;28mself\u001b[39m,\n\u001b[0;32m    882\u001b[0m     cast_to: Type[ResponseT],\n\u001b[1;32m   (...)\u001b[0m\n\u001b[0;32m    887\u001b[0m     stream_cls: \u001b[38;5;28mtype\u001b[39m[_StreamT] \u001b[38;5;241m|\u001b[39m \u001b[38;5;28;01mNone\u001b[39;00m \u001b[38;5;241m=\u001b[39m \u001b[38;5;28;01mNone\u001b[39;00m,\n\u001b[0;32m    888\u001b[0m ) \u001b[38;5;241m-\u001b[39m\u001b[38;5;241m>\u001b[39m ResponseT \u001b[38;5;241m|\u001b[39m _StreamT:\n\u001b[1;32m--> 889\u001b[0m     \u001b[38;5;28;01mreturn\u001b[39;00m \u001b[38;5;28;43mself\u001b[39;49m\u001b[38;5;241;43m.\u001b[39;49m\u001b[43m_request\u001b[49m\u001b[43m(\u001b[49m\n\u001b[0;32m    890\u001b[0m \u001b[43m        \u001b[49m\u001b[43mcast_to\u001b[49m\u001b[38;5;241;43m=\u001b[39;49m\u001b[43mcast_to\u001b[49m\u001b[43m,\u001b[49m\n\u001b[0;32m    891\u001b[0m \u001b[43m        \u001b[49m\u001b[43moptions\u001b[49m\u001b[38;5;241;43m=\u001b[39;49m\u001b[43moptions\u001b[49m\u001b[43m,\u001b[49m\n\u001b[0;32m    892\u001b[0m \u001b[43m        \u001b[49m\u001b[43mstream\u001b[49m\u001b[38;5;241;43m=\u001b[39;49m\u001b[43mstream\u001b[49m\u001b[43m,\u001b[49m\n\u001b[0;32m    893\u001b[0m \u001b[43m        \u001b[49m\u001b[43mstream_cls\u001b[49m\u001b[38;5;241;43m=\u001b[39;49m\u001b[43mstream_cls\u001b[49m\u001b[43m,\u001b[49m\n\u001b[0;32m    894\u001b[0m \u001b[43m        \u001b[49m\u001b[43mremaining_retries\u001b[49m\u001b[38;5;241;43m=\u001b[39;49m\u001b[43mremaining_retries\u001b[49m\u001b[43m,\u001b[49m\n\u001b[0;32m    895\u001b[0m \u001b[43m    \u001b[49m\u001b[43m)\u001b[49m\n",
      "File \u001b[1;32m~\\Documents\\Lib\\site-packages\\openai\\_base_client.py:918\u001b[0m, in \u001b[0;36mSyncAPIClient._request\u001b[1;34m(self, cast_to, options, remaining_retries, stream, stream_cls)\u001b[0m\n\u001b[0;32m    915\u001b[0m     kwargs[\u001b[38;5;124m\"\u001b[39m\u001b[38;5;124mauth\u001b[39m\u001b[38;5;124m\"\u001b[39m] \u001b[38;5;241m=\u001b[39m \u001b[38;5;28mself\u001b[39m\u001b[38;5;241m.\u001b[39mcustom_auth\n\u001b[0;32m    917\u001b[0m \u001b[38;5;28;01mtry\u001b[39;00m:\n\u001b[1;32m--> 918\u001b[0m     response \u001b[38;5;241m=\u001b[39m \u001b[38;5;28;43mself\u001b[39;49m\u001b[38;5;241;43m.\u001b[39;49m\u001b[43m_client\u001b[49m\u001b[38;5;241;43m.\u001b[39;49m\u001b[43msend\u001b[49m\u001b[43m(\u001b[49m\n\u001b[0;32m    919\u001b[0m \u001b[43m        \u001b[49m\u001b[43mrequest\u001b[49m\u001b[43m,\u001b[49m\n\u001b[0;32m    920\u001b[0m \u001b[43m        \u001b[49m\u001b[43mstream\u001b[49m\u001b[38;5;241;43m=\u001b[39;49m\u001b[43mstream\u001b[49m\u001b[43m \u001b[49m\u001b[38;5;129;43;01mor\u001b[39;49;00m\u001b[43m \u001b[49m\u001b[38;5;28;43mself\u001b[39;49m\u001b[38;5;241;43m.\u001b[39;49m\u001b[43m_should_stream_response_body\u001b[49m\u001b[43m(\u001b[49m\u001b[43mrequest\u001b[49m\u001b[38;5;241;43m=\u001b[39;49m\u001b[43mrequest\u001b[49m\u001b[43m)\u001b[49m\u001b[43m,\u001b[49m\n\u001b[0;32m    921\u001b[0m \u001b[43m        \u001b[49m\u001b[38;5;241;43m*\u001b[39;49m\u001b[38;5;241;43m*\u001b[39;49m\u001b[43mkwargs\u001b[49m\u001b[43m,\u001b[49m\n\u001b[0;32m    922\u001b[0m \u001b[43m    \u001b[49m\u001b[43m)\u001b[49m\n\u001b[0;32m    923\u001b[0m \u001b[38;5;28;01mexcept\u001b[39;00m httpx\u001b[38;5;241m.\u001b[39mTimeoutException \u001b[38;5;28;01mas\u001b[39;00m err:\n\u001b[0;32m    924\u001b[0m     log\u001b[38;5;241m.\u001b[39mdebug(\u001b[38;5;124m\"\u001b[39m\u001b[38;5;124mEncountered httpx.TimeoutException\u001b[39m\u001b[38;5;124m\"\u001b[39m, exc_info\u001b[38;5;241m=\u001b[39m\u001b[38;5;28;01mTrue\u001b[39;00m)\n",
      "File \u001b[1;32m~\\Documents\\Lib\\site-packages\\httpx\\_client.py:914\u001b[0m, in \u001b[0;36mClient.send\u001b[1;34m(self, request, stream, auth, follow_redirects)\u001b[0m\n\u001b[0;32m    906\u001b[0m follow_redirects \u001b[38;5;241m=\u001b[39m (\n\u001b[0;32m    907\u001b[0m     \u001b[38;5;28mself\u001b[39m\u001b[38;5;241m.\u001b[39mfollow_redirects\n\u001b[0;32m    908\u001b[0m     \u001b[38;5;28;01mif\u001b[39;00m \u001b[38;5;28misinstance\u001b[39m(follow_redirects, UseClientDefault)\n\u001b[0;32m    909\u001b[0m     \u001b[38;5;28;01melse\u001b[39;00m follow_redirects\n\u001b[0;32m    910\u001b[0m )\n\u001b[0;32m    912\u001b[0m auth \u001b[38;5;241m=\u001b[39m \u001b[38;5;28mself\u001b[39m\u001b[38;5;241m.\u001b[39m_build_request_auth(request, auth)\n\u001b[1;32m--> 914\u001b[0m response \u001b[38;5;241m=\u001b[39m \u001b[38;5;28;43mself\u001b[39;49m\u001b[38;5;241;43m.\u001b[39;49m\u001b[43m_send_handling_auth\u001b[49m\u001b[43m(\u001b[49m\n\u001b[0;32m    915\u001b[0m \u001b[43m    \u001b[49m\u001b[43mrequest\u001b[49m\u001b[43m,\u001b[49m\n\u001b[0;32m    916\u001b[0m \u001b[43m    \u001b[49m\u001b[43mauth\u001b[49m\u001b[38;5;241;43m=\u001b[39;49m\u001b[43mauth\u001b[49m\u001b[43m,\u001b[49m\n\u001b[0;32m    917\u001b[0m \u001b[43m    \u001b[49m\u001b[43mfollow_redirects\u001b[49m\u001b[38;5;241;43m=\u001b[39;49m\u001b[43mfollow_redirects\u001b[49m\u001b[43m,\u001b[49m\n\u001b[0;32m    918\u001b[0m \u001b[43m    \u001b[49m\u001b[43mhistory\u001b[49m\u001b[38;5;241;43m=\u001b[39;49m\u001b[43m[\u001b[49m\u001b[43m]\u001b[49m\u001b[43m,\u001b[49m\n\u001b[0;32m    919\u001b[0m \u001b[43m\u001b[49m\u001b[43m)\u001b[49m\n\u001b[0;32m    920\u001b[0m \u001b[38;5;28;01mtry\u001b[39;00m:\n\u001b[0;32m    921\u001b[0m     \u001b[38;5;28;01mif\u001b[39;00m \u001b[38;5;129;01mnot\u001b[39;00m stream:\n",
      "File \u001b[1;32m~\\Documents\\Lib\\site-packages\\httpx\\_client.py:942\u001b[0m, in \u001b[0;36mClient._send_handling_auth\u001b[1;34m(self, request, auth, follow_redirects, history)\u001b[0m\n\u001b[0;32m    939\u001b[0m request \u001b[38;5;241m=\u001b[39m \u001b[38;5;28mnext\u001b[39m(auth_flow)\n\u001b[0;32m    941\u001b[0m \u001b[38;5;28;01mwhile\u001b[39;00m \u001b[38;5;28;01mTrue\u001b[39;00m:\n\u001b[1;32m--> 942\u001b[0m     response \u001b[38;5;241m=\u001b[39m \u001b[38;5;28;43mself\u001b[39;49m\u001b[38;5;241;43m.\u001b[39;49m\u001b[43m_send_handling_redirects\u001b[49m\u001b[43m(\u001b[49m\n\u001b[0;32m    943\u001b[0m \u001b[43m        \u001b[49m\u001b[43mrequest\u001b[49m\u001b[43m,\u001b[49m\n\u001b[0;32m    944\u001b[0m \u001b[43m        \u001b[49m\u001b[43mfollow_redirects\u001b[49m\u001b[38;5;241;43m=\u001b[39;49m\u001b[43mfollow_redirects\u001b[49m\u001b[43m,\u001b[49m\n\u001b[0;32m    945\u001b[0m \u001b[43m        \u001b[49m\u001b[43mhistory\u001b[49m\u001b[38;5;241;43m=\u001b[39;49m\u001b[43mhistory\u001b[49m\u001b[43m,\u001b[49m\n\u001b[0;32m    946\u001b[0m \u001b[43m    \u001b[49m\u001b[43m)\u001b[49m\n\u001b[0;32m    947\u001b[0m     \u001b[38;5;28;01mtry\u001b[39;00m:\n\u001b[0;32m    948\u001b[0m         \u001b[38;5;28;01mtry\u001b[39;00m:\n",
      "File \u001b[1;32m~\\Documents\\Lib\\site-packages\\httpx\\_client.py:979\u001b[0m, in \u001b[0;36mClient._send_handling_redirects\u001b[1;34m(self, request, follow_redirects, history)\u001b[0m\n\u001b[0;32m    976\u001b[0m \u001b[38;5;28;01mfor\u001b[39;00m hook \u001b[38;5;129;01min\u001b[39;00m \u001b[38;5;28mself\u001b[39m\u001b[38;5;241m.\u001b[39m_event_hooks[\u001b[38;5;124m\"\u001b[39m\u001b[38;5;124mrequest\u001b[39m\u001b[38;5;124m\"\u001b[39m]:\n\u001b[0;32m    977\u001b[0m     hook(request)\n\u001b[1;32m--> 979\u001b[0m response \u001b[38;5;241m=\u001b[39m \u001b[38;5;28;43mself\u001b[39;49m\u001b[38;5;241;43m.\u001b[39;49m\u001b[43m_send_single_request\u001b[49m\u001b[43m(\u001b[49m\u001b[43mrequest\u001b[49m\u001b[43m)\u001b[49m\n\u001b[0;32m    980\u001b[0m \u001b[38;5;28;01mtry\u001b[39;00m:\n\u001b[0;32m    981\u001b[0m     \u001b[38;5;28;01mfor\u001b[39;00m hook \u001b[38;5;129;01min\u001b[39;00m \u001b[38;5;28mself\u001b[39m\u001b[38;5;241m.\u001b[39m_event_hooks[\u001b[38;5;124m\"\u001b[39m\u001b[38;5;124mresponse\u001b[39m\u001b[38;5;124m\"\u001b[39m]:\n",
      "File \u001b[1;32m~\\Documents\\Lib\\site-packages\\httpx\\_client.py:1015\u001b[0m, in \u001b[0;36mClient._send_single_request\u001b[1;34m(self, request)\u001b[0m\n\u001b[0;32m   1010\u001b[0m     \u001b[38;5;28;01mraise\u001b[39;00m \u001b[38;5;167;01mRuntimeError\u001b[39;00m(\n\u001b[0;32m   1011\u001b[0m         \u001b[38;5;124m\"\u001b[39m\u001b[38;5;124mAttempted to send an async request with a sync Client instance.\u001b[39m\u001b[38;5;124m\"\u001b[39m\n\u001b[0;32m   1012\u001b[0m     )\n\u001b[0;32m   1014\u001b[0m \u001b[38;5;28;01mwith\u001b[39;00m request_context(request\u001b[38;5;241m=\u001b[39mrequest):\n\u001b[1;32m-> 1015\u001b[0m     response \u001b[38;5;241m=\u001b[39m \u001b[43mtransport\u001b[49m\u001b[38;5;241;43m.\u001b[39;49m\u001b[43mhandle_request\u001b[49m\u001b[43m(\u001b[49m\u001b[43mrequest\u001b[49m\u001b[43m)\u001b[49m\n\u001b[0;32m   1017\u001b[0m \u001b[38;5;28;01massert\u001b[39;00m \u001b[38;5;28misinstance\u001b[39m(response\u001b[38;5;241m.\u001b[39mstream, SyncByteStream)\n\u001b[0;32m   1019\u001b[0m response\u001b[38;5;241m.\u001b[39mrequest \u001b[38;5;241m=\u001b[39m request\n",
      "File \u001b[1;32m~\\Documents\\Lib\\site-packages\\httpx\\_transports\\default.py:233\u001b[0m, in \u001b[0;36mHTTPTransport.handle_request\u001b[1;34m(self, request)\u001b[0m\n\u001b[0;32m    220\u001b[0m req \u001b[38;5;241m=\u001b[39m httpcore\u001b[38;5;241m.\u001b[39mRequest(\n\u001b[0;32m    221\u001b[0m     method\u001b[38;5;241m=\u001b[39mrequest\u001b[38;5;241m.\u001b[39mmethod,\n\u001b[0;32m    222\u001b[0m     url\u001b[38;5;241m=\u001b[39mhttpcore\u001b[38;5;241m.\u001b[39mURL(\n\u001b[1;32m   (...)\u001b[0m\n\u001b[0;32m    230\u001b[0m     extensions\u001b[38;5;241m=\u001b[39mrequest\u001b[38;5;241m.\u001b[39mextensions,\n\u001b[0;32m    231\u001b[0m )\n\u001b[0;32m    232\u001b[0m \u001b[38;5;28;01mwith\u001b[39;00m map_httpcore_exceptions():\n\u001b[1;32m--> 233\u001b[0m     resp \u001b[38;5;241m=\u001b[39m \u001b[38;5;28;43mself\u001b[39;49m\u001b[38;5;241;43m.\u001b[39;49m\u001b[43m_pool\u001b[49m\u001b[38;5;241;43m.\u001b[39;49m\u001b[43mhandle_request\u001b[49m\u001b[43m(\u001b[49m\u001b[43mreq\u001b[49m\u001b[43m)\u001b[49m\n\u001b[0;32m    235\u001b[0m \u001b[38;5;28;01massert\u001b[39;00m \u001b[38;5;28misinstance\u001b[39m(resp\u001b[38;5;241m.\u001b[39mstream, typing\u001b[38;5;241m.\u001b[39mIterable)\n\u001b[0;32m    237\u001b[0m \u001b[38;5;28;01mreturn\u001b[39;00m Response(\n\u001b[0;32m    238\u001b[0m     status_code\u001b[38;5;241m=\u001b[39mresp\u001b[38;5;241m.\u001b[39mstatus,\n\u001b[0;32m    239\u001b[0m     headers\u001b[38;5;241m=\u001b[39mresp\u001b[38;5;241m.\u001b[39mheaders,\n\u001b[0;32m    240\u001b[0m     stream\u001b[38;5;241m=\u001b[39mResponseStream(resp\u001b[38;5;241m.\u001b[39mstream),\n\u001b[0;32m    241\u001b[0m     extensions\u001b[38;5;241m=\u001b[39mresp\u001b[38;5;241m.\u001b[39mextensions,\n\u001b[0;32m    242\u001b[0m )\n",
      "File \u001b[1;32m~\\Documents\\Lib\\site-packages\\httpcore\\_sync\\connection_pool.py:216\u001b[0m, in \u001b[0;36mConnectionPool.handle_request\u001b[1;34m(self, request)\u001b[0m\n\u001b[0;32m    213\u001b[0m         closing \u001b[38;5;241m=\u001b[39m \u001b[38;5;28mself\u001b[39m\u001b[38;5;241m.\u001b[39m_assign_requests_to_connections()\n\u001b[0;32m    215\u001b[0m     \u001b[38;5;28mself\u001b[39m\u001b[38;5;241m.\u001b[39m_close_connections(closing)\n\u001b[1;32m--> 216\u001b[0m     \u001b[38;5;28;01mraise\u001b[39;00m exc \u001b[38;5;28;01mfrom\u001b[39;00m \u001b[38;5;28;01mNone\u001b[39;00m\n\u001b[0;32m    218\u001b[0m \u001b[38;5;66;03m# Return the response. Note that in this case we still have to manage\u001b[39;00m\n\u001b[0;32m    219\u001b[0m \u001b[38;5;66;03m# the point at which the response is closed.\u001b[39;00m\n\u001b[0;32m    220\u001b[0m \u001b[38;5;28;01massert\u001b[39;00m \u001b[38;5;28misinstance\u001b[39m(response\u001b[38;5;241m.\u001b[39mstream, Iterable)\n",
      "File \u001b[1;32m~\\Documents\\Lib\\site-packages\\httpcore\\_sync\\connection_pool.py:196\u001b[0m, in \u001b[0;36mConnectionPool.handle_request\u001b[1;34m(self, request)\u001b[0m\n\u001b[0;32m    192\u001b[0m connection \u001b[38;5;241m=\u001b[39m pool_request\u001b[38;5;241m.\u001b[39mwait_for_connection(timeout\u001b[38;5;241m=\u001b[39mtimeout)\n\u001b[0;32m    194\u001b[0m \u001b[38;5;28;01mtry\u001b[39;00m:\n\u001b[0;32m    195\u001b[0m     \u001b[38;5;66;03m# Send the request on the assigned connection.\u001b[39;00m\n\u001b[1;32m--> 196\u001b[0m     response \u001b[38;5;241m=\u001b[39m \u001b[43mconnection\u001b[49m\u001b[38;5;241;43m.\u001b[39;49m\u001b[43mhandle_request\u001b[49m\u001b[43m(\u001b[49m\n\u001b[0;32m    197\u001b[0m \u001b[43m        \u001b[49m\u001b[43mpool_request\u001b[49m\u001b[38;5;241;43m.\u001b[39;49m\u001b[43mrequest\u001b[49m\n\u001b[0;32m    198\u001b[0m \u001b[43m    \u001b[49m\u001b[43m)\u001b[49m\n\u001b[0;32m    199\u001b[0m \u001b[38;5;28;01mexcept\u001b[39;00m ConnectionNotAvailable:\n\u001b[0;32m    200\u001b[0m     \u001b[38;5;66;03m# In some cases a connection may initially be available to\u001b[39;00m\n\u001b[0;32m    201\u001b[0m     \u001b[38;5;66;03m# handle a request, but then become unavailable.\u001b[39;00m\n\u001b[0;32m    202\u001b[0m     \u001b[38;5;66;03m#\u001b[39;00m\n\u001b[0;32m    203\u001b[0m     \u001b[38;5;66;03m# In this case we clear the connection and try again.\u001b[39;00m\n\u001b[0;32m    204\u001b[0m     pool_request\u001b[38;5;241m.\u001b[39mclear_connection()\n",
      "File \u001b[1;32m~\\Documents\\Lib\\site-packages\\httpcore\\_sync\\connection.py:99\u001b[0m, in \u001b[0;36mHTTPConnection.handle_request\u001b[1;34m(self, request)\u001b[0m\n\u001b[0;32m     97\u001b[0m \u001b[38;5;28;01mexcept\u001b[39;00m \u001b[38;5;167;01mBaseException\u001b[39;00m \u001b[38;5;28;01mas\u001b[39;00m exc:\n\u001b[0;32m     98\u001b[0m     \u001b[38;5;28mself\u001b[39m\u001b[38;5;241m.\u001b[39m_connect_failed \u001b[38;5;241m=\u001b[39m \u001b[38;5;28;01mTrue\u001b[39;00m\n\u001b[1;32m---> 99\u001b[0m     \u001b[38;5;28;01mraise\u001b[39;00m exc\n\u001b[0;32m    101\u001b[0m \u001b[38;5;28;01mreturn\u001b[39;00m \u001b[38;5;28mself\u001b[39m\u001b[38;5;241m.\u001b[39m_connection\u001b[38;5;241m.\u001b[39mhandle_request(request)\n",
      "File \u001b[1;32m~\\Documents\\Lib\\site-packages\\httpcore\\_sync\\connection.py:76\u001b[0m, in \u001b[0;36mHTTPConnection.handle_request\u001b[1;34m(self, request)\u001b[0m\n\u001b[0;32m     74\u001b[0m \u001b[38;5;28;01mwith\u001b[39;00m \u001b[38;5;28mself\u001b[39m\u001b[38;5;241m.\u001b[39m_request_lock:\n\u001b[0;32m     75\u001b[0m     \u001b[38;5;28;01mif\u001b[39;00m \u001b[38;5;28mself\u001b[39m\u001b[38;5;241m.\u001b[39m_connection \u001b[38;5;129;01mis\u001b[39;00m \u001b[38;5;28;01mNone\u001b[39;00m:\n\u001b[1;32m---> 76\u001b[0m         stream \u001b[38;5;241m=\u001b[39m \u001b[38;5;28;43mself\u001b[39;49m\u001b[38;5;241;43m.\u001b[39;49m\u001b[43m_connect\u001b[49m\u001b[43m(\u001b[49m\u001b[43mrequest\u001b[49m\u001b[43m)\u001b[49m\n\u001b[0;32m     78\u001b[0m         ssl_object \u001b[38;5;241m=\u001b[39m stream\u001b[38;5;241m.\u001b[39mget_extra_info(\u001b[38;5;124m\"\u001b[39m\u001b[38;5;124mssl_object\u001b[39m\u001b[38;5;124m\"\u001b[39m)\n\u001b[0;32m     79\u001b[0m         http2_negotiated \u001b[38;5;241m=\u001b[39m (\n\u001b[0;32m     80\u001b[0m             ssl_object \u001b[38;5;129;01mis\u001b[39;00m \u001b[38;5;129;01mnot\u001b[39;00m \u001b[38;5;28;01mNone\u001b[39;00m\n\u001b[0;32m     81\u001b[0m             \u001b[38;5;129;01mand\u001b[39;00m ssl_object\u001b[38;5;241m.\u001b[39mselected_alpn_protocol() \u001b[38;5;241m==\u001b[39m \u001b[38;5;124m\"\u001b[39m\u001b[38;5;124mh2\u001b[39m\u001b[38;5;124m\"\u001b[39m\n\u001b[0;32m     82\u001b[0m         )\n",
      "File \u001b[1;32m~\\Documents\\Lib\\site-packages\\httpcore\\_sync\\connection.py:154\u001b[0m, in \u001b[0;36mHTTPConnection._connect\u001b[1;34m(self, request)\u001b[0m\n\u001b[0;32m    147\u001b[0m     kwargs \u001b[38;5;241m=\u001b[39m {\n\u001b[0;32m    148\u001b[0m         \u001b[38;5;124m\"\u001b[39m\u001b[38;5;124mssl_context\u001b[39m\u001b[38;5;124m\"\u001b[39m: ssl_context,\n\u001b[0;32m    149\u001b[0m         \u001b[38;5;124m\"\u001b[39m\u001b[38;5;124mserver_hostname\u001b[39m\u001b[38;5;124m\"\u001b[39m: sni_hostname\n\u001b[0;32m    150\u001b[0m         \u001b[38;5;129;01mor\u001b[39;00m \u001b[38;5;28mself\u001b[39m\u001b[38;5;241m.\u001b[39m_origin\u001b[38;5;241m.\u001b[39mhost\u001b[38;5;241m.\u001b[39mdecode(\u001b[38;5;124m\"\u001b[39m\u001b[38;5;124mascii\u001b[39m\u001b[38;5;124m\"\u001b[39m),\n\u001b[0;32m    151\u001b[0m         \u001b[38;5;124m\"\u001b[39m\u001b[38;5;124mtimeout\u001b[39m\u001b[38;5;124m\"\u001b[39m: timeout,\n\u001b[0;32m    152\u001b[0m     }\n\u001b[0;32m    153\u001b[0m     \u001b[38;5;28;01mwith\u001b[39;00m Trace(\u001b[38;5;124m\"\u001b[39m\u001b[38;5;124mstart_tls\u001b[39m\u001b[38;5;124m\"\u001b[39m, logger, request, kwargs) \u001b[38;5;28;01mas\u001b[39;00m trace:\n\u001b[1;32m--> 154\u001b[0m         stream \u001b[38;5;241m=\u001b[39m \u001b[43mstream\u001b[49m\u001b[38;5;241;43m.\u001b[39;49m\u001b[43mstart_tls\u001b[49m\u001b[43m(\u001b[49m\u001b[38;5;241;43m*\u001b[39;49m\u001b[38;5;241;43m*\u001b[39;49m\u001b[43mkwargs\u001b[49m\u001b[43m)\u001b[49m\n\u001b[0;32m    155\u001b[0m         trace\u001b[38;5;241m.\u001b[39mreturn_value \u001b[38;5;241m=\u001b[39m stream\n\u001b[0;32m    156\u001b[0m \u001b[38;5;28;01mreturn\u001b[39;00m stream\n",
      "File \u001b[1;32m~\\Documents\\Lib\\site-packages\\httpcore\\_backends\\sync.py:163\u001b[0m, in \u001b[0;36mSyncStream.start_tls\u001b[1;34m(self, ssl_context, server_hostname, timeout)\u001b[0m\n\u001b[0;32m    161\u001b[0m     \u001b[38;5;28;01melse\u001b[39;00m:\n\u001b[0;32m    162\u001b[0m         \u001b[38;5;28mself\u001b[39m\u001b[38;5;241m.\u001b[39m_sock\u001b[38;5;241m.\u001b[39msettimeout(timeout)\n\u001b[1;32m--> 163\u001b[0m         sock \u001b[38;5;241m=\u001b[39m \u001b[43mssl_context\u001b[49m\u001b[38;5;241;43m.\u001b[39;49m\u001b[43mwrap_socket\u001b[49m\u001b[43m(\u001b[49m\n\u001b[0;32m    164\u001b[0m \u001b[43m            \u001b[49m\u001b[38;5;28;43mself\u001b[39;49m\u001b[38;5;241;43m.\u001b[39;49m\u001b[43m_sock\u001b[49m\u001b[43m,\u001b[49m\u001b[43m \u001b[49m\u001b[43mserver_hostname\u001b[49m\u001b[38;5;241;43m=\u001b[39;49m\u001b[43mserver_hostname\u001b[49m\n\u001b[0;32m    165\u001b[0m \u001b[43m        \u001b[49m\u001b[43m)\u001b[49m\n\u001b[0;32m    166\u001b[0m \u001b[38;5;28;01mexcept\u001b[39;00m \u001b[38;5;167;01mException\u001b[39;00m \u001b[38;5;28;01mas\u001b[39;00m exc:  \u001b[38;5;66;03m# pragma: nocover\u001b[39;00m\n\u001b[0;32m    167\u001b[0m     \u001b[38;5;28mself\u001b[39m\u001b[38;5;241m.\u001b[39mclose()\n",
      "File \u001b[1;32m~\\Documents\\Lib\\ssl.py:517\u001b[0m, in \u001b[0;36mSSLContext.wrap_socket\u001b[1;34m(self, sock, server_side, do_handshake_on_connect, suppress_ragged_eofs, server_hostname, session)\u001b[0m\n\u001b[0;32m    511\u001b[0m \u001b[38;5;28;01mdef\u001b[39;00m \u001b[38;5;21mwrap_socket\u001b[39m(\u001b[38;5;28mself\u001b[39m, sock, server_side\u001b[38;5;241m=\u001b[39m\u001b[38;5;28;01mFalse\u001b[39;00m,\n\u001b[0;32m    512\u001b[0m                 do_handshake_on_connect\u001b[38;5;241m=\u001b[39m\u001b[38;5;28;01mTrue\u001b[39;00m,\n\u001b[0;32m    513\u001b[0m                 suppress_ragged_eofs\u001b[38;5;241m=\u001b[39m\u001b[38;5;28;01mTrue\u001b[39;00m,\n\u001b[0;32m    514\u001b[0m                 server_hostname\u001b[38;5;241m=\u001b[39m\u001b[38;5;28;01mNone\u001b[39;00m, session\u001b[38;5;241m=\u001b[39m\u001b[38;5;28;01mNone\u001b[39;00m):\n\u001b[0;32m    515\u001b[0m     \u001b[38;5;66;03m# SSLSocket class handles server_hostname encoding before it calls\u001b[39;00m\n\u001b[0;32m    516\u001b[0m     \u001b[38;5;66;03m# ctx._wrap_socket()\u001b[39;00m\n\u001b[1;32m--> 517\u001b[0m     \u001b[38;5;28;01mreturn\u001b[39;00m \u001b[38;5;28;43mself\u001b[39;49m\u001b[38;5;241;43m.\u001b[39;49m\u001b[43msslsocket_class\u001b[49m\u001b[38;5;241;43m.\u001b[39;49m\u001b[43m_create\u001b[49m\u001b[43m(\u001b[49m\n\u001b[0;32m    518\u001b[0m \u001b[43m        \u001b[49m\u001b[43msock\u001b[49m\u001b[38;5;241;43m=\u001b[39;49m\u001b[43msock\u001b[49m\u001b[43m,\u001b[49m\n\u001b[0;32m    519\u001b[0m \u001b[43m        \u001b[49m\u001b[43mserver_side\u001b[49m\u001b[38;5;241;43m=\u001b[39;49m\u001b[43mserver_side\u001b[49m\u001b[43m,\u001b[49m\n\u001b[0;32m    520\u001b[0m \u001b[43m        \u001b[49m\u001b[43mdo_handshake_on_connect\u001b[49m\u001b[38;5;241;43m=\u001b[39;49m\u001b[43mdo_handshake_on_connect\u001b[49m\u001b[43m,\u001b[49m\n\u001b[0;32m    521\u001b[0m \u001b[43m        \u001b[49m\u001b[43msuppress_ragged_eofs\u001b[49m\u001b[38;5;241;43m=\u001b[39;49m\u001b[43msuppress_ragged_eofs\u001b[49m\u001b[43m,\u001b[49m\n\u001b[0;32m    522\u001b[0m \u001b[43m        \u001b[49m\u001b[43mserver_hostname\u001b[49m\u001b[38;5;241;43m=\u001b[39;49m\u001b[43mserver_hostname\u001b[49m\u001b[43m,\u001b[49m\n\u001b[0;32m    523\u001b[0m \u001b[43m        \u001b[49m\u001b[43mcontext\u001b[49m\u001b[38;5;241;43m=\u001b[39;49m\u001b[38;5;28;43mself\u001b[39;49m\u001b[43m,\u001b[49m\n\u001b[0;32m    524\u001b[0m \u001b[43m        \u001b[49m\u001b[43msession\u001b[49m\u001b[38;5;241;43m=\u001b[39;49m\u001b[43msession\u001b[49m\n\u001b[0;32m    525\u001b[0m \u001b[43m    \u001b[49m\u001b[43m)\u001b[49m\n",
      "File \u001b[1;32m~\\Documents\\Lib\\ssl.py:1075\u001b[0m, in \u001b[0;36mSSLSocket._create\u001b[1;34m(cls, sock, server_side, do_handshake_on_connect, suppress_ragged_eofs, server_hostname, context, session)\u001b[0m\n\u001b[0;32m   1072\u001b[0m         \u001b[38;5;28;01mif\u001b[39;00m timeout \u001b[38;5;241m==\u001b[39m \u001b[38;5;241m0.0\u001b[39m:\n\u001b[0;32m   1073\u001b[0m             \u001b[38;5;66;03m# non-blocking\u001b[39;00m\n\u001b[0;32m   1074\u001b[0m             \u001b[38;5;28;01mraise\u001b[39;00m \u001b[38;5;167;01mValueError\u001b[39;00m(\u001b[38;5;124m\"\u001b[39m\u001b[38;5;124mdo_handshake_on_connect should not be specified for non-blocking sockets\u001b[39m\u001b[38;5;124m\"\u001b[39m)\n\u001b[1;32m-> 1075\u001b[0m         \u001b[38;5;28;43mself\u001b[39;49m\u001b[38;5;241;43m.\u001b[39;49m\u001b[43mdo_handshake\u001b[49m\u001b[43m(\u001b[49m\u001b[43m)\u001b[49m\n\u001b[0;32m   1076\u001b[0m \u001b[38;5;28;01mexcept\u001b[39;00m (\u001b[38;5;167;01mOSError\u001b[39;00m, \u001b[38;5;167;01mValueError\u001b[39;00m):\n\u001b[0;32m   1077\u001b[0m     \u001b[38;5;28mself\u001b[39m\u001b[38;5;241m.\u001b[39mclose()\n",
      "File \u001b[1;32m~\\Documents\\Lib\\ssl.py:1346\u001b[0m, in \u001b[0;36mSSLSocket.do_handshake\u001b[1;34m(self, block)\u001b[0m\n\u001b[0;32m   1344\u001b[0m     \u001b[38;5;28;01mif\u001b[39;00m timeout \u001b[38;5;241m==\u001b[39m \u001b[38;5;241m0.0\u001b[39m \u001b[38;5;129;01mand\u001b[39;00m block:\n\u001b[0;32m   1345\u001b[0m         \u001b[38;5;28mself\u001b[39m\u001b[38;5;241m.\u001b[39msettimeout(\u001b[38;5;28;01mNone\u001b[39;00m)\n\u001b[1;32m-> 1346\u001b[0m     \u001b[38;5;28mself\u001b[39m\u001b[38;5;241m.\u001b[39m_sslobj\u001b[38;5;241m.\u001b[39mdo_handshake()\n\u001b[0;32m   1347\u001b[0m \u001b[38;5;28;01mfinally\u001b[39;00m:\n\u001b[0;32m   1348\u001b[0m     \u001b[38;5;28mself\u001b[39m\u001b[38;5;241m.\u001b[39msettimeout(timeout)\n",
      "\u001b[1;31mKeyboardInterrupt\u001b[0m: "
     ]
    }
   ],
   "source": [
    "import json\n",
    "qa = []\n",
    "bad_formatted = []\n",
    "for i, chunk in data.iterrows():\n",
    "\n",
    "    gen = Generate()\n",
    "    answer = gen.generate_question_answer(chunk.text)\n",
    "    print(i, answer)\n",
    "    try:\n",
    "        qa.append(json.loads(answer))\n",
    "    except:\n",
    "        bad_formatted.append(answer)"
   ]
  },
  {
   "cell_type": "code",
   "execution_count": 27,
   "id": "55623e50-0e52-4cd1-9e2f-6600acba6f9c",
   "metadata": {},
   "outputs": [],
   "source": [
    "qa_df = pd.DataFrame(qa)"
   ]
  },
  {
   "cell_type": "code",
   "execution_count": 28,
   "id": "ee109aa8-4371-4365-9603-9f04d132ba0d",
   "metadata": {},
   "outputs": [],
   "source": [
    "output_file_json = \"qa_football_fr_20240312.json\"\n",
    "with open(output_file_json, \"w\", encoding=\"utf-8\") as f:\n",
    "    qa_df.to_json(f, force_ascii=False, orient=\"records\", indent=4)\n"
   ]
  },
  {
   "cell_type": "markdown",
   "id": "48079b61-0b8a-4178-ae26-6f911c3b1848",
   "metadata": {},
   "source": [
    "## Partie RAG"
   ]
  },
  {
   "cell_type": "code",
   "execution_count": 29,
   "id": "a9b87266-e941-4103-9c17-6df3d78ca958",
   "metadata": {},
   "outputs": [],
   "source": [
    "class Retrieve(object):\n",
    "    collection_name = \"Yamine_football_fr_2024\"\n",
    "\n",
    "    def __init__(self, query: str, search_params: t.Dict) -> None:\n",
    "        self.client = connect_to_weaviate()\n",
    "        assert self.client is not None\n",
    "        assert self.client.is_live()\n",
    "\n",
    "        # retrieval\n",
    "        self.collection = self.client.collections.get(Retrieve.collection_name)\n",
    "        self.query = query\n",
    "        self.search_mode = search_params.get(\"search_mode\")\n",
    "        self.response_count = search_params.get(\"response_count\")\n",
    "\n",
    "        # output\n",
    "        self.response = \"\"\n",
    "        self.chunk_texts = []\n",
    "        self.metadata = []\n",
    "\n",
    "    # retrieve\n",
    "    def search(self):\n",
    "        metadata = [\"distance\", \"certainty\", \"score\", \"explain_score\"]\n",
    "        if self.search_mode == \"hybrid\":\n",
    "            self.response = self.collection.query.hybrid(\n",
    "                query=self.query,\n",
    "                # query_properties=[\"text\"],\n",
    "                limit=self.response_count,\n",
    "                return_metadata=metadata,\n",
    "            )\n",
    "        elif self.search_mode == \"near_text\":\n",
    "            self.response = self.collection.query.near_text(\n",
    "                query=self.query,\n",
    "                limit=self.response_count,\n",
    "                return_metadata=metadata,\n",
    "            )\n",
    "        elif self.search_mode == \"bm25\":\n",
    "            self.response = self.collection.query.bm25(\n",
    "                query=self.query,\n",
    "                limit=self.response_count,\n",
    "                return_metadata=metadata,\n",
    "            )\n",
    "\n",
    "    def get_context(self):\n",
    "        texts = []\n",
    "        metadata = []\n",
    "        if len(self.response.objects) > 0:\n",
    "            for i in range(min([self.response_count, len(self.response.objects)])):\n",
    "                prop = self.response.objects[i].properties\n",
    "                texts.append(f\"--- \\n{prop.get('text')}\")\n",
    "                metadata.append(self.response.objects[i].metadata)\n",
    "            self.chunk_texts = texts\n",
    "            self.metadata = metadata\n",
    "\n",
    "    def close(self):\n",
    "        self.client.close()\n",
    "\n",
    "    def process(self):\n",
    "        self.search()\n",
    "        self.get_context()\n",
    "        self.close()"
   ]
  },
  {
   "cell_type": "code",
   "execution_count": 30,
   "id": "7659120f-b59c-40bf-b8db-3de94b70f654",
   "metadata": {},
   "outputs": [],
   "source": [
    "params = {\n",
    "        \"search_mode\": \"hybrid\",\n",
    "        \"response_count\": 3,\n",
    "        \"model\": \"gpt-3.5-turbo-0125\",\n",
    "        \"temperature\": 0.5,\n",
    "    }\n",
    "\n",
    "query = \"Quels sont les joueurs internationaux jeunes qui n'ont jamais été appelés en équipe senior ?\""
   ]
  },
  {
   "cell_type": "code",
   "execution_count": 31,
   "id": "235cb181-b8d1-4fb9-85e6-2ea796f071ed",
   "metadata": {},
   "outputs": [],
   "source": [
    "from langchain.prompts import ChatPromptTemplate\n",
    "\n",
    "\n",
    "prompt_generative_context = ChatPromptTemplate.from_template(\n",
    "        \"\"\"\"Prends le rôle d'un consultant sportif spécialisé dans les clubs de football français.\n",
    "Vous êtes invité à donner votre analyse sur la performance récente des clubs de Ligue 1 et à discuter de leur histoire, de leurs points forts et de leurs défis actuels.\n",
    "\n",
    "En tant qu'IA, tu peux utiliser tes connaissances générales pour répondre à la question mais surtout n'invente rien.\n",
    "\n",
    "Indique clairement\n",
    "- Si le contexte ne permet pas de répondre à la question\n",
    "- Si tes connaissances générales ne te permettent pas de répondre à la question\n",
    "\n",
    "Voici une question et un contexte.\n",
    "Réponds à la question en prenant compte l'information dans le contexte.\n",
    "Écris une réponse dans un style concis .\n",
    "\n",
    "--- Le contexte:\n",
    "{context}\n",
    "--- La question:\n",
    "{query}\n",
    "Ta réponse:\n",
    "\"\"\"\n",
    "    )\n"
   ]
  },
  {
   "cell_type": "code",
   "execution_count": 32,
   "id": "04d7a219-7865-4c70-ba68-0d591efc8e24",
   "metadata": {},
   "outputs": [
    {
     "name": "stderr",
     "output_type": "stream",
     "text": [
      "C:\\Users\\yetsu\\Documents\\Lib\\site-packages\\weaviate\\__init__.py:128: DeprecationWarning: Dep010: Importing AuthApiKey from weaviate is deprecated. Please import it from its specific module: weaviate.auth\n",
      "  _Warnings.root_module_import(name, map_[name])\n"
     ]
    },
    {
     "name": "stdout",
     "output_type": "stream",
     "text": [
      "client is live, ready and connected \n"
     ]
    }
   ],
   "source": [
    "ret = Retrieve(query, params)\n",
    "ret.process()"
   ]
  },
  {
   "cell_type": "code",
   "execution_count": 33,
   "id": "bb0710df-7ef1-432f-8ff2-a9f127820f42",
   "metadata": {},
   "outputs": [],
   "source": [
    "class Generate(object):\n",
    "    def __init__(self, model: str = \"gpt-3.5-turbo-0125\", temperature: float = 0.5) -> None:\n",
    "        self.model = model\n",
    "        self.temperature = temperature\n",
    "        llm = ChatOpenAI(model=model, temperature=temperature)\n",
    "\n",
    "        llm_chain = LLMChain(\n",
    "            llm=llm,\n",
    "            prompt=prompt_generative_context,\n",
    "            output_key=\"answer\",\n",
    "            verbose=True,\n",
    "        )\n",
    "\n",
    "        self.overall_context_chain = SequentialChain(\n",
    "            chains=[llm_chain],\n",
    "            input_variables=[\"context\", \"query\"],\n",
    "            output_variables=[\"answer\"],\n",
    "            verbose=True,\n",
    "        )\n",
    "        # outputs\n",
    "        self.answer = \"\"\n",
    "\n",
    "    def generate_answer(self, chunk_texts: t.List[str], query: str) -> str:\n",
    "        response_context = self.overall_context_chain(\n",
    "            {\"context\": \"\\n\".join(chunk_texts), \"query\": query}\n",
    "        )\n",
    "        self.answer = response_context[\"answer\"]"
   ]
  },
  {
   "cell_type": "code",
   "execution_count": 34,
   "id": "45075228-5b2d-4f55-904b-fdb8ce476142",
   "metadata": {},
   "outputs": [
    {
     "name": "stdout",
     "output_type": "stream",
     "text": [
      "Quels sont les joueurs internationaux jeunes qui n'ont jamais été appelés en équipe senior ?\n",
      "\n",
      "\n",
      "\u001b[1m> Entering new SequentialChain chain...\u001b[0m\n",
      "\n",
      "\n",
      "\u001b[1m> Entering new LLMChain chain...\u001b[0m\n",
      "Prompt after formatting:\n",
      "\u001b[32;1m\u001b[1;3mHuman: \"Prends le rôle d'un consultant sportif spécialisé dans les clubs de football français.\n",
      "Vous êtes invité à donner votre analyse sur la performance récente des clubs de Ligue 1 et à discuter de leur histoire, de leurs points forts et de leurs défis actuels.\n",
      "\n",
      "En tant qu'IA, tu peux utiliser tes connaissances générales pour répondre à la question mais surtout n'invente rien.\n",
      "\n",
      "Indique clairement\n",
      "- Si le contexte ne permet pas de répondre à la question\n",
      "- Si tes connaissances générales ne te permettent pas de répondre à la question\n",
      "\n",
      "Voici une question et un contexte.\n",
      "Réponds à la question en prenant compte l'information dans le contexte.\n",
      "Écris une réponse dans un style concis .\n",
      "\n",
      "--- Le contexte:\n",
      "--- \n",
      "En grisé, les sélections de joueurs internationaux chez les jeunes mais n'ayant jamais été appelés aux échelons supérieurs une fois l'âge-limite dépassé ou les joueurs ayant pris leur retraite internationale.\n",
      "== Structures du club ==\n",
      "=== Structures sportives ===\n",
      "--- \n",
      "En grisé, les sélections de joueurs internationaux chez les jeunes mais n'ayant jamais été appelés aux échelons supérieurs une fois l'âge-limite dépassé ou les joueurs ayant pris leur retraite internationale.\n",
      "== Structures du club ==\n",
      "=== Structures sportives ===\n",
      "--- \n",
      "En grisé, les sélections de joueurs internationaux chez les jeunes mais n'ayant jamais été appelés aux échelons supérieurs une fois l'âge limite dépassé.\n",
      "== Structures du club ==\n",
      "=== Structures sportives ===\n",
      "--- La question:\n",
      "Quels sont les joueurs internationaux jeunes qui n'ont jamais été appelés en équipe senior ?\n",
      "Ta réponse:\n",
      "\u001b[0m\n",
      "\n",
      "\u001b[1m> Finished chain.\u001b[0m\n",
      "\n",
      "\u001b[1m> Finished chain.\u001b[0m\n"
     ]
    }
   ],
   "source": [
    "print(query)\n",
    "gen = Generate()\n",
    "gen.generate_answer(ret.chunk_texts, query)"
   ]
  },
  {
   "cell_type": "code",
   "execution_count": 35,
   "id": "4c6b2c5e-0cae-4ea9-959a-70c3432161cb",
   "metadata": {},
   "outputs": [
    {
     "data": {
      "text/plain": [
       "\"Désolé, je ne peux pas répondre à cette question car le contexte ne fournit pas d'information spécifique sur les joueurs internationaux jeunes qui n'ont jamais été appelés en équipe senior.\""
      ]
     },
     "execution_count": 35,
     "metadata": {},
     "output_type": "execute_result"
    }
   ],
   "source": [
    "gen.answer"
   ]
  },
  {
   "cell_type": "code",
   "execution_count": 37,
   "id": "a1ff148d-6cf0-4bc3-9749-6793b8e47245",
   "metadata": {},
   "outputs": [
    {
     "name": "stderr",
     "output_type": "stream",
     "text": [
      "C:\\Users\\yetsu\\Documents\\Lib\\site-packages\\weaviate\\__init__.py:128: DeprecationWarning: Dep010: Importing AuthApiKey from weaviate is deprecated. Please import it from its specific module: weaviate.auth\n",
      "  _Warnings.root_module_import(name, map_[name])\n"
     ]
    },
    {
     "name": "stdout",
     "output_type": "stream",
     "text": [
      "client is live, ready and connected \n",
      "\n",
      "\n",
      "\u001b[1m> Entering new SequentialChain chain...\u001b[0m\n",
      "\n",
      "\n",
      "\u001b[1m> Entering new LLMChain chain...\u001b[0m\n",
      "Prompt after formatting:\n",
      "\u001b[32;1m\u001b[1;3mHuman: \"Prends le rôle d'un consultant sportif spécialisé dans les clubs de football français.\n",
      "Vous êtes invité à donner votre analyse sur la performance récente des clubs de Ligue 1 et à discuter de leur histoire, de leurs points forts et de leurs défis actuels.\n",
      "\n",
      "En tant qu'IA, tu peux utiliser tes connaissances générales pour répondre à la question mais surtout n'invente rien.\n",
      "\n",
      "Indique clairement\n",
      "- Si le contexte ne permet pas de répondre à la question\n",
      "- Si tes connaissances générales ne te permettent pas de répondre à la question\n",
      "\n",
      "Voici une question et un contexte.\n",
      "Réponds à la question en prenant compte l'information dans le contexte.\n",
      "Écris une réponse dans un style concis .\n",
      "\n",
      "--- Le contexte:\n",
      "--- \n",
      "La saison 2003-2004 est une saison mémorable pour le club. C'est l'année du Périple Rouge et Blanc. Qualifié pour la Ligue des champions, l'AS Monaco FC s'illustre dès le premier tour en battant historiquement le Deportivo La Corogne, en s'imposant 8 buts à 3 et battant ainsi un nouveau record en nombre de buts marqués sur un match. Monaco compte alors des joueurs tels que le gardien Flavio Roma ou encore Jérôme Rothen, Patrice Évra, Hugo Ibarra, mais surtout sa paire offensive magique, l'ailier droit Ludovic Giuly et l'attaquant espagnol prêté par le Real Madrid, Fernando Morientes. En huitième de finale, Monaco élimine le Lokomotiv Moscou, puis hérite du Real Madrid en quart de finale.\n",
      "Le club espagnol est battu à la suite de deux matchs spectaculaires de la part de Ludovic Giuly et de Fernando Morientes notamment. Lors de la demi-finale, l'AS Monaco FC élimine une nouvelle fois une grosse écurie, le Chelsea Football Club. Cependant, les joueurs monégasques ne rééditeront pas un nouvel exploit face au FC Porto en finale, s'inclinant trois buts à zéro. Fernando Morientes termine tout de même meilleur buteur de la Ligue des champions et Dado Prso égalera le record en Ligue des champions de buts marqués sur un match. Après avoir monopolisé la 1re place et compté douze points d'avance sur leur adversaire du soir après une victoire 3-0 contre l'Olympique lyonnais, les joueurs de Monaco ne finissent que 3e du championnat malgré le gain de 75 points, payant ainsi leurs efforts européens.\n",
      "Le parcours européen de l'année précédente ne permettra pas au club de rebondir mais de s'enfoncer doucement dans l'anonymat.\n",
      "--- \n",
      "En 2001, Claude Puel qui n'aura eu que le temps d'une saison et demie pour convaincre, quitte l'ASM sur une finale perdue de Coupe de la Ligue face à l'Olympique lyonnais. Didier Deschamps le remplace dès lors. Le recrutement estival s'avère désastreux malgré la venue de joueurs de classe mondiale tels que Oliver Bierhoff, Florin Răducioiu ou Vladimir Jugovic. Monaco passe de peu à côté de la relégation avec une calamiteuse 15e place dans un championnat à 18 équipes.\n",
      "Intersaison 2002, les stars quittent le Rocher et sont remplacés par de jeunes talents qui obtiendront une 2e place en championnat après une lutte acharnée avec Lyon et une victoire en Coupe de la Ligue en 2003. L'ASM glane au passage le titre honorifique de meilleure attaque.\n",
      "La saison 2003-2004 est une saison mémorable pour le club. C'est l'année du Périple Rouge et Blanc. Qualifié pour la Ligue des champions, l'AS Monaco FC s'illustre dès le premier tour en battant historiquement le Deportivo La Corogne, en s'imposant 8 buts à 3 et battant ainsi un nouveau record en nombre de buts marqués sur un match. Monaco compte alors des joueurs tels que le gardien Flavio Roma ou encore Jérôme Rothen, Patrice Évra, Hugo Ibarra, mais surtout sa paire offensive magique, l'ailier droit Ludovic Giuly et l'attaquant espagnol prêté par le Real Madrid, Fernando Morientes. En huitième de finale, Monaco élimine le Lokomotiv Moscou, puis hérite du Real Madrid en quart de finale.\n",
      "--- \n",
      "Les saisons qui suivent seront dans la continuité des deux premières avec une 3e place en championnat puis une seconde place qualificative pour la Coupe de l'UEFA ainsi qu'une victoire en Coupe de France en 1991. Mais c'est avant tout sur la scène européenne que l'AS Monaco FC se fait remarquer obtenant sa première demi-finale de Coupe des Coupes en 1990 au terme d'un parcours serré (six matches nuls en huit rencontres) qui aura néanmoins montré la solidité de cette équipe. Cette expérience ne permettra pas de franchir l'obstacle suivant, le FK Torpedo Moscou en 8e de finale de la Coupe de l'UEFA, l'année suivante.\n",
      "La saison 1991-1992, sera une des plus complètes du club. En effet, celle-ci est engagée sur tous les tableaux possibles avant que tout ne se transforme en échec en mai. D'abord une défaite au Stade Louis-II contre Marseille (0-3) qui maintient Monaco à la seconde place derrière les vainqueurs du soir, puis l'écroulement d'une tribune à Bastia lors de la demi-finale de Coupe de France qui met fin à la finale pour laquelle l'ASM s'était qualifiée aux tirs au but à l'AS Cannes, huit jours plus tôt. Et enfin, une défaite au Stade de la Luz à Lisbonne contre le Werder Brême (0-2) lors d'un match fermé en finale de Coupe des vainqueurs de coupes viendra clore la saison.\n",
      "George Weah quitte alors Monaco pour le Paris Saint-Germain et est remplacé par le champion du monde allemand, Jürgen Klinsmann. La saison 1992-1993 marque le début de la fin du cycle malgré une 3e place. À la faveur de la disqualification de l'Olympique de Marseille et du refus de Paris, l'ASM se retrouve qualifié pour la Ligue des champions de l'UEFA.\n",
      "--- La question:\n",
      "Quel est le parcours européen mémorable de l'AS Monaco FC lors de la saison 2003-2004?\n",
      "Ta réponse:\n",
      "\u001b[0m\n",
      "\n",
      "\u001b[1m> Finished chain.\u001b[0m\n",
      "\n",
      "\u001b[1m> Finished chain.\u001b[0m\n"
     ]
    }
   ],
   "source": [
    "query2 = \"Quel est le parcours européen mémorable de l'AS Monaco FC lors de la saison 2003-2004?\"\n",
    "ret2 = Retrieve(query2, params)\n",
    "ret2.process()\n",
    "gen.generate_answer(ret2.chunk_texts, query2)"
   ]
  },
  {
   "cell_type": "code",
   "execution_count": null,
   "id": "3dbac55d-d7f4-4ce1-9aae-21653382502a",
   "metadata": {},
   "outputs": [],
   "source": [
    "gen.answer"
   ]
  },
  {
   "cell_type": "code",
   "execution_count": 40,
   "id": "aa54e0e8-569a-4ef2-83be-3df2a29d88df",
   "metadata": {},
   "outputs": [
    {
     "data": {
      "text/plain": [
       "[\"--- \\nLa saison 2003-2004 est une saison mémorable pour le club. C'est l'année du Périple Rouge et Blanc. Qualifié pour la Ligue des champions, l'AS Monaco FC s'illustre dès le premier tour en battant historiquement le Deportivo La Corogne, en s'imposant 8 buts à 3 et battant ainsi un nouveau record en nombre de buts marqués sur un match. Monaco compte alors des joueurs tels que le gardien Flavio Roma ou encore Jérôme Rothen, Patrice Évra, Hugo Ibarra, mais surtout sa paire offensive magique, l'ailier droit Ludovic Giuly et l'attaquant espagnol prêté par le Real Madrid, Fernando Morientes. En huitième de finale, Monaco élimine le Lokomotiv Moscou, puis hérite du Real Madrid en quart de finale.\\nLe club espagnol est battu à la suite de deux matchs spectaculaires de la part de Ludovic Giuly et de Fernando Morientes notamment. Lors de la demi-finale, l'AS Monaco FC élimine une nouvelle fois une grosse écurie, le Chelsea Football Club. Cependant, les joueurs monégasques ne rééditeront pas un nouvel exploit face au FC Porto en finale, s'inclinant trois buts à zéro. Fernando Morientes termine tout de même meilleur buteur de la Ligue des champions et Dado Prso égalera le record en Ligue des champions de buts marqués sur un match. Après avoir monopolisé la 1re place et compté douze points d'avance sur leur adversaire du soir après une victoire 3-0 contre l'Olympique lyonnais, les joueurs de Monaco ne finissent que 3e du championnat malgré le gain de 75 points, payant ainsi leurs efforts européens.\\nLe parcours européen de l'année précédente ne permettra pas au club de rebondir mais de s'enfoncer doucement dans l'anonymat.\",\n",
       " \"--- \\nEn 2001, Claude Puel qui n'aura eu que le temps d'une saison et demie pour convaincre, quitte l'ASM sur une finale perdue de Coupe de la Ligue face à l'Olympique lyonnais. Didier Deschamps le remplace dès lors. Le recrutement estival s'avère désastreux malgré la venue de joueurs de classe mondiale tels que Oliver Bierhoff, Florin Răducioiu ou Vladimir Jugovic. Monaco passe de peu à côté de la relégation avec une calamiteuse 15e place dans un championnat à 18 équipes.\\nIntersaison 2002, les stars quittent le Rocher et sont remplacés par de jeunes talents qui obtiendront une 2e place en championnat après une lutte acharnée avec Lyon et une victoire en Coupe de la Ligue en 2003. L'ASM glane au passage le titre honorifique de meilleure attaque.\\nLa saison 2003-2004 est une saison mémorable pour le club. C'est l'année du Périple Rouge et Blanc. Qualifié pour la Ligue des champions, l'AS Monaco FC s'illustre dès le premier tour en battant historiquement le Deportivo La Corogne, en s'imposant 8 buts à 3 et battant ainsi un nouveau record en nombre de buts marqués sur un match. Monaco compte alors des joueurs tels que le gardien Flavio Roma ou encore Jérôme Rothen, Patrice Évra, Hugo Ibarra, mais surtout sa paire offensive magique, l'ailier droit Ludovic Giuly et l'attaquant espagnol prêté par le Real Madrid, Fernando Morientes. En huitième de finale, Monaco élimine le Lokomotiv Moscou, puis hérite du Real Madrid en quart de finale.\",\n",
       " \"--- \\nLes saisons qui suivent seront dans la continuité des deux premières avec une 3e place en championnat puis une seconde place qualificative pour la Coupe de l'UEFA ainsi qu'une victoire en Coupe de France en 1991. Mais c'est avant tout sur la scène européenne que l'AS Monaco FC se fait remarquer obtenant sa première demi-finale de Coupe des Coupes en 1990 au terme d'un parcours serré (six matches nuls en huit rencontres) qui aura néanmoins montré la solidité de cette équipe. Cette expérience ne permettra pas de franchir l'obstacle suivant, le FK Torpedo Moscou en 8e de finale de la Coupe de l'UEFA, l'année suivante.\\nLa saison 1991-1992, sera une des plus complètes du club. En effet, celle-ci est engagée sur tous les tableaux possibles avant que tout ne se transforme en échec en mai. D'abord une défaite au Stade Louis-II contre Marseille (0-3) qui maintient Monaco à la seconde place derrière les vainqueurs du soir, puis l'écroulement d'une tribune à Bastia lors de la demi-finale de Coupe de France qui met fin à la finale pour laquelle l'ASM s'était qualifiée aux tirs au but à l'AS Cannes, huit jours plus tôt. Et enfin, une défaite au Stade de la Luz à Lisbonne contre le Werder Brême (0-2) lors d'un match fermé en finale de Coupe des vainqueurs de coupes viendra clore la saison.\\nGeorge Weah quitte alors Monaco pour le Paris Saint-Germain et est remplacé par le champion du monde allemand, Jürgen Klinsmann. La saison 1992-1993 marque le début de la fin du cycle malgré une 3e place. À la faveur de la disqualification de l'Olympique de Marseille et du refus de Paris, l'ASM se retrouve qualifié pour la Ligue des champions de l'UEFA.\"]"
      ]
     },
     "execution_count": 40,
     "metadata": {},
     "output_type": "execute_result"
    }
   ],
   "source": [
    "ret2.chunk_texts"
   ]
  }
 ],
 "metadata": {
  "kernelspec": {
   "display_name": "Python 3 (ipykernel)",
   "language": "python",
   "name": "python3"
  },
  "language_info": {
   "codemirror_mode": {
    "name": "ipython",
    "version": 3
   },
   "file_extension": ".py",
   "mimetype": "text/x-python",
   "name": "python",
   "nbconvert_exporter": "python",
   "pygments_lexer": "ipython3",
   "version": "3.11.3"
  }
 },
 "nbformat": 4,
 "nbformat_minor": 5
}
